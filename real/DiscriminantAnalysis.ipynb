{
 "cells": [
  {
   "cell_type": "markdown",
   "metadata": {},
   "source": [
    "# Проведение классификации (дискриминации) регионов северо-западного федерального окргуа\n",
    "\n",
    "## Постановка задачи\n",
    "### Классифицировать регионы северо-западного по уровню жизни населения.\n",
    "\n",
    "Количество регионов для классификации $N - 9$. Количество факторов $p - 5$. Что удовлетворяет условия проведения процедуры дискриминантного анализа:\n",
    "\n",
    "$0 < p < N-2$\n",
    "\n",
    "В качестве факторов выступают **среднедушевые доходы населения,потребительские расходы на душу населения, демографическая нагрузка, смертность населения, младенческая смертность**. В качестве обучющих выборок даны: $M_1$ - **группа регионов центрального федерального округа** (высокий уровень жизни), $M_2$ - **группа регионов приволжского федерального округа** (средний уровень жизни)"
   ]
  },
  {
   "cell_type": "code",
   "execution_count": 20,
   "metadata": {},
   "outputs": [],
   "source": [
    "# Здесь подгрузим необходимые библиотеки для проведения процедуры дискриминационного анализа\n",
    "\n",
    "import numpy as np\n",
    "import pandas as pd\n",
    "from IPython.display import HTML"
   ]
  },
  {
   "cell_type": "markdown",
   "metadata": {},
   "source": [
    "## Исходные данные\n",
    "Обучающая выборка №1\n",
    "Регионы Центрального федерального округа"
   ]
  },
  {
   "cell_type": "code",
   "execution_count": 21,
   "metadata": {},
   "outputs": [
    {
     "data": {
      "text/html": [
       "<table border=\"1\" class=\"dataframe\">\n",
       "  <thead>\n",
       "    <tr style=\"text-align: right;\">\n",
       "      <th>Центральный федеральный округ</th>\n",
       "      <th>Среднедушевые доходы населения</th>\n",
       "      <th>Потребительские расходы на душу населения</th>\n",
       "      <th>Демографическая нагрузка</th>\n",
       "      <th>Смертность населения</th>\n",
       "      <th>Младенческая смертность</th>\n",
       "    </tr>\n",
       "  </thead>\n",
       "  <tbody>\n",
       "    <tr>\n",
       "      <td>Белогородская область</td>\n",
       "      <td>32352</td>\n",
       "      <td>26072</td>\n",
       "      <td>788</td>\n",
       "      <td>13.3</td>\n",
       "      <td>2.9</td>\n",
       "    </tr>\n",
       "    <tr>\n",
       "      <td>Брянская область</td>\n",
       "      <td>28371</td>\n",
       "      <td>24470</td>\n",
       "      <td>802</td>\n",
       "      <td>14.7</td>\n",
       "      <td>3.6</td>\n",
       "    </tr>\n",
       "    <tr>\n",
       "      <td>Владимирская область</td>\n",
       "      <td>25358</td>\n",
       "      <td>20905</td>\n",
       "      <td>831</td>\n",
       "      <td>15.6</td>\n",
       "      <td>5.1</td>\n",
       "    </tr>\n",
       "    <tr>\n",
       "      <td>Воронежская область</td>\n",
       "      <td>32022</td>\n",
       "      <td>27904</td>\n",
       "      <td>792</td>\n",
       "      <td>14.1</td>\n",
       "      <td>4.1</td>\n",
       "    </tr>\n",
       "    <tr>\n",
       "      <td>Ивановская область</td>\n",
       "      <td>25794</td>\n",
       "      <td>20617</td>\n",
       "      <td>812</td>\n",
       "      <td>15.8</td>\n",
       "      <td>4.9</td>\n",
       "    </tr>\n",
       "    <tr>\n",
       "      <td>Калужская область</td>\n",
       "      <td>31394</td>\n",
       "      <td>25060</td>\n",
       "      <td>806</td>\n",
       "      <td>14.6</td>\n",
       "      <td>3.9</td>\n",
       "    </tr>\n",
       "    <tr>\n",
       "      <td>Костромская область</td>\n",
       "      <td>25285</td>\n",
       "      <td>20803</td>\n",
       "      <td>858</td>\n",
       "      <td>14.7</td>\n",
       "      <td>7.3</td>\n",
       "    </tr>\n",
       "    <tr>\n",
       "      <td>Курская область</td>\n",
       "      <td>29149</td>\n",
       "      <td>23024</td>\n",
       "      <td>825</td>\n",
       "      <td>15.0</td>\n",
       "      <td>4.3</td>\n",
       "    </tr>\n",
       "    <tr>\n",
       "      <td>Липецкая область</td>\n",
       "      <td>32479</td>\n",
       "      <td>26858</td>\n",
       "      <td>826</td>\n",
       "      <td>14.3</td>\n",
       "      <td>2.9</td>\n",
       "    </tr>\n",
       "    <tr>\n",
       "      <td>Московская область</td>\n",
       "      <td>47201</td>\n",
       "      <td>37972</td>\n",
       "      <td>724</td>\n",
       "      <td>12.0</td>\n",
       "      <td>4.0</td>\n",
       "    </tr>\n",
       "    <tr>\n",
       "      <td>Орловская область</td>\n",
       "      <td>26064</td>\n",
       "      <td>21295</td>\n",
       "      <td>830</td>\n",
       "      <td>15.3</td>\n",
       "      <td>5.2</td>\n",
       "    </tr>\n",
       "    <tr>\n",
       "      <td>Рязанская область</td>\n",
       "      <td>26886</td>\n",
       "      <td>21193</td>\n",
       "      <td>840</td>\n",
       "      <td>15.2</td>\n",
       "      <td>4.9</td>\n",
       "    </tr>\n",
       "    <tr>\n",
       "      <td>Смоленская область</td>\n",
       "      <td>27388</td>\n",
       "      <td>22028</td>\n",
       "      <td>773</td>\n",
       "      <td>15.1</td>\n",
       "      <td>4.0</td>\n",
       "    </tr>\n",
       "    <tr>\n",
       "      <td>Тамбовская область</td>\n",
       "      <td>28154</td>\n",
       "      <td>23179</td>\n",
       "      <td>833</td>\n",
       "      <td>15.0</td>\n",
       "      <td>3.8</td>\n",
       "    </tr>\n",
       "    <tr>\n",
       "      <td>Тверская область</td>\n",
       "      <td>27211</td>\n",
       "      <td>21610</td>\n",
       "      <td>843</td>\n",
       "      <td>16.3</td>\n",
       "      <td>4.2</td>\n",
       "    </tr>\n",
       "    <tr>\n",
       "      <td>Тульская область</td>\n",
       "      <td>28557</td>\n",
       "      <td>23942</td>\n",
       "      <td>816</td>\n",
       "      <td>15.9</td>\n",
       "      <td>4.8</td>\n",
       "    </tr>\n",
       "    <tr>\n",
       "      <td>Ярославская область</td>\n",
       "      <td>28658</td>\n",
       "      <td>23019</td>\n",
       "      <td>829</td>\n",
       "      <td>14.7</td>\n",
       "      <td>3.3</td>\n",
       "    </tr>\n",
       "  </tbody>\n",
       "</table>"
      ],
      "text/plain": [
       "<IPython.core.display.HTML object>"
      ]
     },
     "execution_count": 21,
     "metadata": {},
     "output_type": "execute_result"
    }
   ],
   "source": [
    "M1 = pd.read_csv('M1.csv')\n",
    "HTML(M1.to_html(index=False))"
   ]
  },
  {
   "cell_type": "markdown",
   "metadata": {},
   "source": [
    "Обучающая выборка №2 Регионы приволжского федерального округа"
   ]
  },
  {
   "cell_type": "code",
   "execution_count": 22,
   "metadata": {},
   "outputs": [
    {
     "data": {
      "text/html": [
       "<table border=\"1\" class=\"dataframe\">\n",
       "  <thead>\n",
       "    <tr style=\"text-align: right;\">\n",
       "      <th>Приволжский федеральный округ</th>\n",
       "      <th>Среднедушевые доходы населения</th>\n",
       "      <th>Потребительские расходы на душу населения</th>\n",
       "      <th>Демографическая нагрузка</th>\n",
       "      <th>Смертность населения</th>\n",
       "      <th>Младенческая смертность</th>\n",
       "    </tr>\n",
       "  </thead>\n",
       "  <tbody>\n",
       "    <tr>\n",
       "      <td>Республика Башкортостан</td>\n",
       "      <td>30567</td>\n",
       "      <td>26423</td>\n",
       "      <td>792</td>\n",
       "      <td>12.1</td>\n",
       "      <td>6.1</td>\n",
       "    </tr>\n",
       "    <tr>\n",
       "      <td>Республика Марий Эл</td>\n",
       "      <td>20864</td>\n",
       "      <td>15981</td>\n",
       "      <td>820</td>\n",
       "      <td>12.0</td>\n",
       "      <td>4.4</td>\n",
       "    </tr>\n",
       "    <tr>\n",
       "      <td>Республика Мордовия</td>\n",
       "      <td>19748</td>\n",
       "      <td>15026</td>\n",
       "      <td>745</td>\n",
       "      <td>13.2</td>\n",
       "      <td>4.3</td>\n",
       "    </tr>\n",
       "    <tr>\n",
       "      <td>Республика Татарстан</td>\n",
       "      <td>35707</td>\n",
       "      <td>30107</td>\n",
       "      <td>787</td>\n",
       "      <td>11.0</td>\n",
       "      <td>4.9</td>\n",
       "    </tr>\n",
       "    <tr>\n",
       "      <td>Удмуртская Республика</td>\n",
       "      <td>25066</td>\n",
       "      <td>19731</td>\n",
       "      <td>822</td>\n",
       "      <td>11.9</td>\n",
       "      <td>4.4</td>\n",
       "    </tr>\n",
       "    <tr>\n",
       "      <td>Чувашская Республика</td>\n",
       "      <td>20162</td>\n",
       "      <td>16463</td>\n",
       "      <td>789</td>\n",
       "      <td>12.4</td>\n",
       "      <td>3.0</td>\n",
       "    </tr>\n",
       "    <tr>\n",
       "      <td>Пермский край</td>\n",
       "      <td>30588</td>\n",
       "      <td>25366</td>\n",
       "      <td>807</td>\n",
       "      <td>13.2</td>\n",
       "      <td>4.2</td>\n",
       "    </tr>\n",
       "    <tr>\n",
       "      <td>Кировская область</td>\n",
       "      <td>23604</td>\n",
       "      <td>19337</td>\n",
       "      <td>892</td>\n",
       "      <td>14.3</td>\n",
       "      <td>3.2</td>\n",
       "    </tr>\n",
       "    <tr>\n",
       "      <td>Нижегородская область</td>\n",
       "      <td>33817</td>\n",
       "      <td>27747</td>\n",
       "      <td>803</td>\n",
       "      <td>14.6</td>\n",
       "      <td>5.0</td>\n",
       "    </tr>\n",
       "    <tr>\n",
       "      <td>Оренбургская область</td>\n",
       "      <td>24483</td>\n",
       "      <td>19876</td>\n",
       "      <td>819</td>\n",
       "      <td>13.0</td>\n",
       "      <td>4.4</td>\n",
       "    </tr>\n",
       "    <tr>\n",
       "      <td>Пензенская область</td>\n",
       "      <td>22969</td>\n",
       "      <td>19483</td>\n",
       "      <td>831</td>\n",
       "      <td>14.0</td>\n",
       "      <td>5.5</td>\n",
       "    </tr>\n",
       "    <tr>\n",
       "      <td>Самарская область</td>\n",
       "      <td>29421</td>\n",
       "      <td>25126</td>\n",
       "      <td>790</td>\n",
       "      <td>13.2</td>\n",
       "      <td>4.2</td>\n",
       "    </tr>\n",
       "    <tr>\n",
       "      <td>Саратовская область</td>\n",
       "      <td>22757</td>\n",
       "      <td>18514</td>\n",
       "      <td>787</td>\n",
       "      <td>13.7</td>\n",
       "      <td>4.2</td>\n",
       "    </tr>\n",
       "    <tr>\n",
       "      <td>Ульяновская область</td>\n",
       "      <td>23698</td>\n",
       "      <td>19209</td>\n",
       "      <td>828</td>\n",
       "      <td>13.8</td>\n",
       "      <td>4.3</td>\n",
       "    </tr>\n",
       "  </tbody>\n",
       "</table>"
      ],
      "text/plain": [
       "<IPython.core.display.HTML object>"
      ]
     },
     "execution_count": 22,
     "metadata": {},
     "output_type": "execute_result"
    }
   ],
   "source": [
    "M2 = pd.read_csv('M2.csv')\n",
    "HTML(M2.to_html(index=False))"
   ]
  },
  {
   "cell_type": "markdown",
   "metadata": {},
   "source": [
    "Целевая выборка. $M_0$ - **Регионы северо-западного федерального округа**"
   ]
  },
  {
   "cell_type": "code",
   "execution_count": 23,
   "metadata": {},
   "outputs": [
    {
     "data": {
      "text/html": [
       "<table border=\"1\" class=\"dataframe\">\n",
       "  <thead>\n",
       "    <tr style=\"text-align: right;\">\n",
       "      <th>Северо-Западный федеральный округ</th>\n",
       "      <th>Среднедушевые доходы населения</th>\n",
       "      <th>Потребительские расходы на душу населения</th>\n",
       "      <th>Демографическая нагрузка</th>\n",
       "      <th>Смертность населения</th>\n",
       "      <th>Младенческая смертность</th>\n",
       "    </tr>\n",
       "  </thead>\n",
       "  <tbody>\n",
       "    <tr>\n",
       "      <td>Республика Карелия</td>\n",
       "      <td>30854</td>\n",
       "      <td>25737</td>\n",
       "      <td>823</td>\n",
       "      <td>14.2</td>\n",
       "      <td>4.7</td>\n",
       "    </tr>\n",
       "    <tr>\n",
       "      <td>Республика Коми</td>\n",
       "      <td>35356</td>\n",
       "      <td>24639</td>\n",
       "      <td>745</td>\n",
       "      <td>12.0</td>\n",
       "      <td>5.0</td>\n",
       "    </tr>\n",
       "    <tr>\n",
       "      <td>Архангельская область</td>\n",
       "      <td>35693</td>\n",
       "      <td>29187</td>\n",
       "      <td>816</td>\n",
       "      <td>13.0</td>\n",
       "      <td>5.7</td>\n",
       "    </tr>\n",
       "    <tr>\n",
       "      <td>Вологодская область</td>\n",
       "      <td>28334</td>\n",
       "      <td>21020</td>\n",
       "      <td>833</td>\n",
       "      <td>14.1</td>\n",
       "      <td>5.9</td>\n",
       "    </tr>\n",
       "    <tr>\n",
       "      <td>Калининградская область</td>\n",
       "      <td>28905</td>\n",
       "      <td>23736</td>\n",
       "      <td>742</td>\n",
       "      <td>11.8</td>\n",
       "      <td>5.9</td>\n",
       "    </tr>\n",
       "    <tr>\n",
       "      <td>Ленинградская область</td>\n",
       "      <td>32306</td>\n",
       "      <td>25835</td>\n",
       "      <td>734</td>\n",
       "      <td>12.5</td>\n",
       "      <td>2.9</td>\n",
       "    </tr>\n",
       "    <tr>\n",
       "      <td>Мурманская область</td>\n",
       "      <td>44237</td>\n",
       "      <td>32510</td>\n",
       "      <td>679</td>\n",
       "      <td>11.4</td>\n",
       "      <td>5.0</td>\n",
       "    </tr>\n",
       "    <tr>\n",
       "      <td>Новгородская область</td>\n",
       "      <td>26003</td>\n",
       "      <td>23175</td>\n",
       "      <td>882</td>\n",
       "      <td>16.4</td>\n",
       "      <td>5.2</td>\n",
       "    </tr>\n",
       "    <tr>\n",
       "      <td>Псковская область</td>\n",
       "      <td>47169</td>\n",
       "      <td>21786</td>\n",
       "      <td>847</td>\n",
       "      <td>16.8</td>\n",
       "      <td>5.6</td>\n",
       "    </tr>\n",
       "  </tbody>\n",
       "</table>"
      ],
      "text/plain": [
       "<IPython.core.display.HTML object>"
      ]
     },
     "execution_count": 23,
     "metadata": {},
     "output_type": "execute_result"
    }
   ],
   "source": [
    "M0 = pd.read_csv('M0.csv')\n",
    "HTML(M0.to_html(index=False))"
   ]
  },
  {
   "cell_type": "markdown",
   "metadata": {},
   "source": [
    "## Получение обучающих подмножеств"
   ]
  },
  {
   "cell_type": "markdown",
   "metadata": {},
   "source": [
    "### Вектора средних значений признаков $\\overline{X}^{(1)}$,$\\overline{X}^{(2)}$ по обучающим выборкам $М_1$ и $М_2$ "
   ]
  },
  {
   "cell_type": "code",
   "execution_count": 24,
   "metadata": {},
   "outputs": [],
   "source": [
    "def calcMean(X):\n",
    "    mean = np.mean(X, axis = 0)\n",
    "    return np.reshape(np.array(mean), (-1,1))"
   ]
  },
  {
   "cell_type": "code",
   "execution_count": 25,
   "metadata": {},
   "outputs": [
    {
     "name": "stdout",
     "output_type": "stream",
     "text": [
      "[[2.95484118e+04]\n",
      " [2.41147647e+04]\n",
      " [8.13411765e+02]\n",
      " [1.48000000e+01]\n",
      " [4.30588235e+00]]\n",
      "[[2.59607857e+04]\n",
      " [2.13135000e+04]\n",
      " [8.08000000e+02]\n",
      " [1.30285714e+01]\n",
      " [4.43571429e+00]]\n"
     ]
    }
   ],
   "source": [
    "M1,M2 = M1.iloc[:,1:].to_numpy(), M2.iloc[:,1:].to_numpy()\n",
    "    \n",
    "X1,X2 = calcMean(M1),calcMean(M2)\n",
    "print(X1)\n",
    "print(X2)"
   ]
  },
  {
   "cell_type": "markdown",
   "metadata": {},
   "source": [
    "### Ковариационные матрицы $S1,S2$ выборок для $М_1$ и $М_2$\n",
    "### $S_{ij} = E((M_i-E(M_i))(M_j-E(M_j))$"
   ]
  },
  {
   "cell_type": "code",
   "execution_count": 26,
   "metadata": {},
   "outputs": [],
   "source": [
    "def getCovMatr(M, vec):\n",
    "    s = np.zeros((len(vec),len(vec)))\n",
    "    for row in M:\n",
    "        s += (np.reshape(row,(-1,1)) - vec).dot((np.reshape(row,(-1,1)) - vec).T)\n",
    "    return s/len(M)  "
   ]
  },
  {
   "cell_type": "code",
   "execution_count": 27,
   "metadata": {},
   "outputs": [
    {
     "name": "stdout",
     "output_type": "stream",
     "text": [
      "[[ 2.48261986e+07  2.00234222e+07 -1.22543522e+05 -4.24017059e+03\n",
      "  -2.05219066e+03]\n",
      " [ 2.00234222e+07  1.66278803e+07 -1.00489374e+05 -3.48039412e+03\n",
      "  -1.68595744e+03]\n",
      " [-1.22543522e+05 -1.00489374e+05  9.41183391e+02  2.15705882e+01\n",
      "   1.31152249e+01]\n",
      " [-4.24017059e+03 -3.48039412e+03  2.15705882e+01  9.75294118e-01\n",
      "   3.45294118e-01]\n",
      " [-2.05219066e+03 -1.68595744e+03  1.31152249e+01  3.45294118e-01\n",
      "   1.02761246e+00]]\n",
      "[[ 2.44561573e+07  2.23928644e+07 -1.55486429e+04 -8.02951020e+02\n",
      "   1.78169337e+03]\n",
      " [ 2.23928644e+07  2.08121532e+07 -1.25981429e+04 -6.88292857e+02\n",
      "   1.70843214e+03]\n",
      " [-1.55486429e+04 -1.25981429e+04  1.01885714e+03  1.06785714e+01\n",
      "  -5.52142857e+00]\n",
      " [-8.02951020e+02 -6.88292857e+02  1.06785714e+01  9.90612245e-01\n",
      "  -1.08877551e-01]\n",
      " [ 1.78169337e+03  1.70843214e+03 -5.52142857e+00 -1.08877551e-01\n",
      "   5.88010204e-01]]\n"
     ]
    }
   ],
   "source": [
    "S1,S2 = getCovMatr(M1,X1),getCovMatr(M2,X2)\n",
    "print(S1)\n",
    "print(S2)"
   ]
  },
  {
   "cell_type": "markdown",
   "metadata": {},
   "source": [
    "### Обьединенная ковариационная матрица $\\hat{S}$\n",
    "### $\\hat{S} = \\frac{1}{n_1+n_2-1}(n_1S^{(1)}+n_2S^{(2)})$\n"
   ]
  },
  {
   "cell_type": "code",
   "execution_count": 28,
   "metadata": {},
   "outputs": [],
   "source": [
    "def getOCV(matrs,args):\n",
    "    constant = 1/(np.sum(args) - len(matrs))\n",
    "    summ = 0\n",
    "    for index, row, in enumerate(matrs):\n",
    "        summ +=args[index]*row\n",
    "    return constant*summ"
   ]
  },
  {
   "cell_type": "code",
   "execution_count": 29,
   "metadata": {},
   "outputs": [
    {
     "name": "stdout",
     "output_type": "stream",
     "text": [
      "[[ 2.63597096e+07  2.25482165e+07 -7.93420994e+04 -2.87324877e+03\n",
      "  -3.42880484e+02]\n",
      " [ 2.25482165e+07  1.97946245e+07 -6.49894260e+04 -2.37251034e+03\n",
      "  -1.63559533e+02]\n",
      " [-7.93420994e+04 -6.49894260e+04  1.04359026e+03  1.78000000e+01\n",
      "   5.02271805e+00]\n",
      " [-2.87324877e+03 -2.37251034e+03  1.78000000e+01  1.04995074e+00\n",
      "   1.49852217e-01]\n",
      " [-3.42880484e+02 -1.63559533e+02  5.02271805e+00  1.49852217e-01\n",
      "   8.86260504e-01]]\n"
     ]
    }
   ],
   "source": [
    "ocv = getOCV([S1,S2],[len(M1),len(M2)])\n",
    "print(ocv)"
   ]
  },
  {
   "cell_type": "markdown",
   "metadata": {},
   "source": [
    "### Обратная обьединенная ковариационная матрица $\\hat{S}^{-1}$"
   ]
  },
  {
   "cell_type": "code",
   "execution_count": 30,
   "metadata": {},
   "outputs": [
    {
     "name": "stdout",
     "output_type": "stream",
     "text": [
      "[[ 1.64575073e-06 -1.82249061e-06  6.36214911e-06  2.45866943e-04\n",
      "   2.22746139e-04]\n",
      " [-1.82249061e-06  2.09212620e-06 -4.50304692e-06 -1.45173181e-04\n",
      "  -2.68924565e-04]\n",
      " [ 6.36214911e-06 -4.50304692e-06  1.47314034e-03 -1.71953903e-02\n",
      "  -3.81091191e-03]\n",
      " [ 2.45866943e-04 -1.45173181e-04 -1.71953903e-02  1.60377321e+00\n",
      "  -1.05389842e-01]\n",
      " [ 2.22746139e-04 -2.68924565e-04 -3.81091191e-03 -1.05389842e-01\n",
      "   1.20430072e+00]]\n"
     ]
    }
   ],
   "source": [
    "ocvInv = np.linalg.inv(ocv)\n",
    "print(ocvInv)"
   ]
  },
  {
   "cell_type": "markdown",
   "metadata": {},
   "source": [
    "### Вектор дискриминантных множителей $A$\n",
    "### $A = \\hat{S}^{-1}(\\overline{X}^{(1)}-\\overline{X}^{(2)})$ "
   ]
  },
  {
   "cell_type": "code",
   "execution_count": 31,
   "metadata": {},
   "outputs": [
    {
     "name": "stdout",
     "output_type": "stream",
     "text": [
      "[[ 1.24010619e-03]\n",
      " [-9.24433880e-04]\n",
      " [-1.17825533e-02]\n",
      " [ 3.23700539e+00]\n",
      " [-3.17870067e-01]]\n"
     ]
    }
   ],
   "source": [
    "A = np.dot(ocvInv,np.subtract(X1,X2))\n",
    "print(A)"
   ]
  },
  {
   "cell_type": "markdown",
   "metadata": {},
   "source": [
    "### Значения дискриминантной функции F для каждой из групп:\n",
    "### $F_i^{k} = \\sum_{j=1}^{p} a_jx_{ij} $"
   ]
  },
  {
   "cell_type": "code",
   "execution_count": 32,
   "metadata": {},
   "outputs": [],
   "source": [
    "def getFuncValues(A,M):\n",
    "    vec = []\n",
    "    for row in M:\n",
    "        vec.append(np.dot(row,A))\n",
    "    return np.array(vec)"
   ]
  },
  {
   "cell_type": "code",
   "execution_count": 33,
   "metadata": {},
   "outputs": [
    {
     "name": "stdout",
     "output_type": "stream",
     "text": [
      "[[48.86377199]\n",
      " [49.55219507]\n",
      " [51.2061676 ]\n",
      " [48.9220041 ]\n",
      " [52.94793446]\n",
      " [52.28942833]\n",
      " [47.27918416]\n",
      " [52.33132292]\n",
      " [51.08392881]\n",
      " [52.47366501]\n",
      " [50.73004728]\n",
      " [51.49754178]\n",
      " [52.09998639]\n",
      " [51.01880461]\n",
      " [55.26295468]\n",
      " [53.60896255]\n",
      " [51.02669118]]\n",
      "[[41.37698524]\n",
      " [38.8839405 ]\n",
      " [43.18270132]\n",
      " [41.22516758]\n",
      " [40.28097403]\n",
      " [39.67288823]\n",
      " [46.36807485]\n",
      " [46.15764402]\n",
      " [52.49594239]\n",
      " [43.0200028 ]\n",
      " [44.25174222]\n",
      " [45.34303845]\n",
      " [44.84517795]\n",
      " [45.17846518]]\n"
     ]
    }
   ],
   "source": [
    "F1 = getFuncValues(A,M1)\n",
    "F2 = getFuncValues(A,M2)\n",
    "print(F1)\n",
    "print(F2)"
   ]
  },
  {
   "cell_type": "markdown",
   "metadata": {},
   "source": [
    "### Средние значения F для каждой из групп:\n",
    "### $\\overline{F} = \\frac{\\sum_{n=1}^{n_k} F^{k}}{q}$"
   ]
  },
  {
   "cell_type": "code",
   "execution_count": 34,
   "metadata": {},
   "outputs": [
    {
     "name": "stdout",
     "output_type": "stream",
     "text": [
      "[51.30556417 43.73448177]\n"
     ]
    }
   ],
   "source": [
    "Fm = np.array([np.mean(F1), np.mean(F2)])\n",
    "print(Fm)"
   ]
  },
  {
   "cell_type": "markdown",
   "metadata": {},
   "source": [
    "### Константа (общее среднее) дискриминации:"
   ]
  },
  {
   "cell_type": "code",
   "execution_count": 35,
   "metadata": {},
   "outputs": [
    {
     "name": "stdout",
     "output_type": "stream",
     "text": [
      "47.52002297101328\n"
     ]
    }
   ],
   "source": [
    "Fms = np.mean(Fm) \n",
    "print(Fms)"
   ]
  },
  {
   "cell_type": "markdown",
   "metadata": {},
   "source": [
    "## Распределение (дискриминация) объектов из $M_0$ по обучающим выборкам $M_1$, $M_2$:"
   ]
  },
  {
   "cell_type": "code",
   "execution_count": 36,
   "metadata": {},
   "outputs": [
    {
     "name": "stdout",
     "output_type": "stream",
     "text": [
      "[[49.24452763]\n",
      " [49.54478038]\n",
      " [47.93630595]\n",
      " [49.65704448]\n",
      " [41.48148265]\n",
      " [47.0724715 ]\n",
      " [52.1173897 ]\n",
      " [51.86447827]\n",
      " [80.97664812]]\n"
     ]
    }
   ],
   "source": [
    "names = list(M0[M0.columns[0]])\n",
    "M0 = M0.iloc[:,1:].to_numpy()\n",
    "F0 = getFuncValues(A,M0)\n",
    "print(F0)"
   ]
  },
  {
   "cell_type": "markdown",
   "metadata": {},
   "source": [
    "## Сравнение $F_i^{(0)}$ с $\\overline{F}$ \n",
    "\n",
    "|------------------| $\\overline{F}^{(1)} > \\overline{F}^{(2)}$ | $\\overline{F}^{(1)} > \\overline{F}^{(2)}$ |\n",
    "|------------------|------------------|------------------|\n",
    "| $F_i^{(0)} > \\overline{F}$ | Высокий уровень жизни   |    Средний уровень жизни  |\n",
    "| $F_i^{(0)} < \\overline{F}$ | Средний уровень жизни    |    Высокий уровень жизни  |"
   ]
  },
  {
   "cell_type": "code",
   "execution_count": 37,
   "metadata": {},
   "outputs": [],
   "source": [
    "def classificate(needle, Fm):\n",
    "    res, index, Fms = {}, 0, np.mean(Fm)\n",
    "    for index, Fi in enumerate(needle):\n",
    "        if Fm[0] > Fm[1]:\n",
    "            res[names[index]] = [Fi[0],'Высокий'] if (Fi[0] > Fms) else [Fi[0],'Средний'] \n",
    "        else:\n",
    "            res[names[index]] = [Fi[0],'Средний'] if (Fi[0] > Fms) else [Fi[0],'Высокий']\n",
    "    return res"
   ]
  },
  {
   "cell_type": "code",
   "execution_count": 38,
   "metadata": {},
   "outputs": [
    {
     "data": {
      "text/html": [
       "<table border=\"1\" class=\"dataframe\">\n",
       "  <thead>\n",
       "    <tr style=\"text-align: right;\">\n",
       "      <th></th>\n",
       "      <th>F</th>\n",
       "      <th>Уровень жизни</th>\n",
       "    </tr>\n",
       "  </thead>\n",
       "  <tbody>\n",
       "    <tr>\n",
       "      <th>Республика Карелия</th>\n",
       "      <td>49.244528</td>\n",
       "      <td>Высокий</td>\n",
       "    </tr>\n",
       "    <tr>\n",
       "      <th>Республика Коми</th>\n",
       "      <td>49.544780</td>\n",
       "      <td>Высокий</td>\n",
       "    </tr>\n",
       "    <tr>\n",
       "      <th>Архангельская область</th>\n",
       "      <td>47.936306</td>\n",
       "      <td>Высокий</td>\n",
       "    </tr>\n",
       "    <tr>\n",
       "      <th>Вологодская область</th>\n",
       "      <td>49.657044</td>\n",
       "      <td>Высокий</td>\n",
       "    </tr>\n",
       "    <tr>\n",
       "      <th>Калининградская область</th>\n",
       "      <td>41.481483</td>\n",
       "      <td>Средний</td>\n",
       "    </tr>\n",
       "    <tr>\n",
       "      <th>Ленинградская область</th>\n",
       "      <td>47.072471</td>\n",
       "      <td>Средний</td>\n",
       "    </tr>\n",
       "    <tr>\n",
       "      <th>Мурманская область</th>\n",
       "      <td>52.117390</td>\n",
       "      <td>Высокий</td>\n",
       "    </tr>\n",
       "    <tr>\n",
       "      <th>Новгородская область</th>\n",
       "      <td>51.864478</td>\n",
       "      <td>Высокий</td>\n",
       "    </tr>\n",
       "    <tr>\n",
       "      <th>Псковская область</th>\n",
       "      <td>80.976648</td>\n",
       "      <td>Высокий</td>\n",
       "    </tr>\n",
       "  </tbody>\n",
       "</table>"
      ],
      "text/plain": [
       "<IPython.core.display.HTML object>"
      ]
     },
     "execution_count": 38,
     "metadata": {},
     "output_type": "execute_result"
    }
   ],
   "source": [
    "result = classificate(F0, Fm)\n",
    "result = pd.DataFrame.from_dict(result, orient = \"index\", columns = ['F','Уровень жизни'])\n",
    "HTML(result.to_html())"
   ]
  },
  {
   "cell_type": "code",
   "execution_count": null,
   "metadata": {},
   "outputs": [],
   "source": []
  }
 ],
 "metadata": {
  "kernelspec": {
   "display_name": "Python 3",
   "language": "python",
   "name": "python3"
  },
  "language_info": {
   "codemirror_mode": {
    "name": "ipython",
    "version": 3
   },
   "file_extension": ".py",
   "mimetype": "text/x-python",
   "name": "python",
   "nbconvert_exporter": "python",
   "pygments_lexer": "ipython3",
   "version": "3.7.3"
  }
 },
 "nbformat": 4,
 "nbformat_minor": 2
}
