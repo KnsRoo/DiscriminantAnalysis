{
 "cells": [
  {
   "cell_type": "markdown",
   "metadata": {},
   "source": [
    "# Построение моделей временных рядов"
   ]
  },
  {
   "cell_type": "code",
   "execution_count": 1,
   "metadata": {},
   "outputs": [],
   "source": [
    "## импорт заивисимостей\n",
    "\n",
    "import numpy as np\n",
    "import pandas as pd\n",
    "import matplotlib.pyplot as plt\n",
    "from IPython.display import HTML"
   ]
  },
  {
   "cell_type": "markdown",
   "metadata": {},
   "source": [
    "## Исходные данные"
   ]
  },
  {
   "cell_type": "code",
   "execution_count": 2,
   "metadata": {},
   "outputs": [
    {
     "data": {
      "text/html": [
       "<table border=\"1\" class=\"dataframe\">\n",
       "  <tbody>\n",
       "    <tr>\n",
       "      <th>t</th>\n",
       "      <td>1</td>\n",
       "      <td>2</td>\n",
       "      <td>3</td>\n",
       "      <td>4</td>\n",
       "      <td>5</td>\n",
       "      <td>6</td>\n",
       "      <td>7</td>\n",
       "      <td>8</td>\n",
       "      <td>9</td>\n",
       "      <td>10</td>\n",
       "      <td>11</td>\n",
       "      <td>12</td>\n",
       "      <td>13</td>\n",
       "      <td>14</td>\n",
       "      <td>15</td>\n",
       "      <td>16</td>\n",
       "      <td>17</td>\n",
       "      <td>18</td>\n",
       "      <td>19</td>\n",
       "      <td>20</td>\n",
       "      <td>21</td>\n",
       "      <td>22</td>\n",
       "      <td>23</td>\n",
       "      <td>24</td>\n",
       "      <td>25</td>\n",
       "      <td>26</td>\n",
       "      <td>27</td>\n",
       "      <td>28</td>\n",
       "      <td>29</td>\n",
       "      <td>30</td>\n",
       "      <td>31</td>\n",
       "      <td>32</td>\n",
       "      <td>33</td>\n",
       "      <td>34</td>\n",
       "      <td>35</td>\n",
       "    </tr>\n",
       "    <tr>\n",
       "      <th>y</th>\n",
       "      <td>27.3</td>\n",
       "      <td>41.8</td>\n",
       "      <td>42.8</td>\n",
       "      <td>56.2</td>\n",
       "      <td>72.5</td>\n",
       "      <td>56</td>\n",
       "      <td>70</td>\n",
       "      <td>74.9</td>\n",
       "      <td>103.3</td>\n",
       "      <td>111.3</td>\n",
       "      <td>125.2</td>\n",
       "      <td>189.3</td>\n",
       "      <td>169.1</td>\n",
       "      <td>193.5</td>\n",
       "      <td>207.4</td>\n",
       "      <td>221.2</td>\n",
       "      <td>267.2</td>\n",
       "      <td>264</td>\n",
       "      <td>273.8</td>\n",
       "      <td>321</td>\n",
       "      <td>317.4</td>\n",
       "      <td>342</td>\n",
       "      <td>350.6</td>\n",
       "      <td>368.5</td>\n",
       "      <td>397</td>\n",
       "      <td>382.9</td>\n",
       "      <td>400.6</td>\n",
       "      <td>409.4</td>\n",
       "      <td>426</td>\n",
       "      <td>402</td>\n",
       "      <td>398.7</td>\n",
       "      <td>418.1</td>\n",
       "      <td>426.6</td>\n",
       "      <td>435.1</td>\n",
       "      <td>439.8</td>\n",
       "    </tr>\n",
       "  </tbody>\n",
       "</table>"
      ],
      "text/plain": [
       "<IPython.core.display.HTML object>"
      ]
     },
     "execution_count": 2,
     "metadata": {},
     "output_type": "execute_result"
    }
   ],
   "source": [
    "data = pd.read_csv(\"data_series.csv\")\n",
    "data['t'] = data['t'].apply(str)\n",
    "HTML(data.T.to_html(header = False))"
   ]
  },
  {
   "cell_type": "code",
   "execution_count": 3,
   "metadata": {},
   "outputs": [
    {
     "data": {
      "text/plain": [
       "<matplotlib.axes._subplots.AxesSubplot at 0x1bf3aa595c0>"
      ]
     },
     "execution_count": 3,
     "metadata": {},
     "output_type": "execute_result"
    },
    {
     "data": {
      "image/png": "[encoded data removed]",
      "text/plain": [
       "<Figure size 1152x648 with 1 Axes>"
      ]
     },
     "metadata": {
      "needs_background": "light"
     },
     "output_type": "display_data"
    }
   ],
   "source": [
    "data.plot(x = 't', y = 'y', figsize=(16, 9), grid = True, marker='o',title = \"Исходный временной ряд\", xlim = (0,len(data)+1))"
   ]
  },
  {
   "cell_type": "markdown",
   "metadata": {},
   "source": [
    "## Вспомогательные функции и переменные"
   ]
  },
  {
   "cell_type": "markdown",
   "metadata": {},
   "source": [
    "### Количество шагов ($\\tau$), на которые будет производится \n",
    "Для всех моделей, прогноз будет производится на 4 шага вперед"
   ]
  },
  {
   "cell_type": "code",
   "execution_count": 4,
   "metadata": {},
   "outputs": [],
   "source": [
    "TAU = 4"
   ]
  },
  {
   "cell_type": "markdown",
   "metadata": {},
   "source": [
    "### Функция определения коэффициентов a,b по МНК\n",
    "Согласно методу наименьших квадратов, уравнение для точки пересечения линии линейной регрессии a с осью y имеет следующий вид:\n",
    "### <center>$a = \\overline{y} - b\\overline{x}$,</center>\n",
    "где\n",
    "## <center>$b = \\frac{\\sum_{i=1}^{n} (x_i-\\overline{x})(y_i-\\overline{y})}{\\sum_{i=1}^{n} (x_i-\\overline{x})^2}$</center>"
   ]
  },
  {
   "cell_type": "code",
   "execution_count": 5,
   "metadata": {},
   "outputs": [],
   "source": [
    "def segment_slope(d, size = 5):\n",
    "    d['t'] = d['t'].apply(int)\n",
    "    X, Y = d.iloc[:size, 0], d.iloc[:size, 1]\n",
    "    X_mean, Y_mean = np.mean(X), np.mean(Y)\n",
    "    n,d = 0,0\n",
    "    for i in range(len(X)):\n",
    "        n += (X[i] - X_mean)*(Y[i] - Y_mean)\n",
    "        d += (X[i] - X_mean)**2\n",
    "    b = n / d\n",
    "    a = Y_mean - b*X_mean\n",
    "    return a,b"
   ]
  },
  {
   "cell_type": "markdown",
   "metadata": {},
   "source": [
    "### Функция линейной зависимости параметров a,b от переменной t\n",
    "### <center>$y = a+bt$</center>\n",
    "Используется для расчёта предыдущих тренд-сезонных значений в моделях Хольта-Уинтерса и Телла-Вейджа"
   ]
  },
  {
   "cell_type": "code",
   "execution_count": 6,
   "metadata": {},
   "outputs": [],
   "source": [
    "linear = lambda a,b,t: a+b*t"
   ]
  },
  {
   "cell_type": "markdown",
   "metadata": {},
   "source": [
    "### Функции расчёта предыдущих тренд-сезонных значений  для моделей Хольта-Уинтерса и Телла-Вейджа\n",
    "#### Для модели Хольта-Уинтерса согласно формуле:\n",
    "### <center>$f_{i} = 0,5(\\frac{y_i}{\\hat{y}_i}+\\frac{y_{i+4}}{\\hat{y}_{i+4}}) \\quad i \\in [0,4]$</center>\n",
    "#### Для модели Телла-Вейджа согласно формуле:\n",
    "### <center>$f_{i} = 0,5(y_i-\\hat{y}_i+y_{i+4}-\\hat{y}_{i+4}) \\quad i \\in [0,4]$</center>\n",
    "#### $\\hat{y}_i$ - значения, полученные с помощью функции линейной зависимости"
   ]
  },
  {
   "cell_type": "code",
   "execution_count": 7,
   "metadata": {},
   "outputs": [],
   "source": [
    "SF_start_values = lambda y, yr: [0.5*(y[i]-yr[i]+y[i+4]-yr[i+4]) for i in range(4)]\n",
    "HW_start_values = lambda y, yr: [0.5*(y[i]/yr[i]+y[i+4]/yr[i+4]) for i in range(4)]"
   ]
  },
  {
   "cell_type": "markdown",
   "metadata": {},
   "source": [
    "### Функция расчёта коэффициента детерминации $R^2$\n",
    "Коэффициент детерминации - это доля дисперсии зависимой переменной, объясняемая рассматриваемой моделью зависимости, то есть объясняющими переменными. Коэффициент детерминации для модели с константой принимает значения от 0 до 1. Чем ближе значение коэффициента к 1, тем сильнее зависимость. При оценке регрессионных моделей это интерпретируется как соответствие модели данным. Для приемлемых моделей предполагается, что коэффициент детерминации должен быть хотя бы не меньше 50 % (в этом случае коэффициент множественной корреляции превышает по модулю 70 %). Модели с коэффициентом детерминации выше 80 % можно признать достаточно хорошими (коэффициент корреляции превышает 90 %). Значение коэффициента детерминации 1 означает функциональную зависимость между переменными. В общем случае коэффициент детерминации может быть и отрицательным, это говорит о крайней неадекватности модели: простое среднее приближает лучше.\n",
    "Коэффициент детерминации определяется по формуле:\n",
    "## <center>$R^2 = 1- \\frac{SS_{res}}{SS_{tot}}$,</center>\n",
    "где:\n",
    "### <center>$SS_{res} = \\sum_{i=1}^{n} (y_i - \\hat{y_{i}})^2 $,</center>\n",
    "### <center>$SS_{tot} = \\sum_{i=1}^{n} (y_i - \\overline{y_{i}})^2 $</center>\n",
    "$y$ - исходные показатели временного ряда\n",
    "$\\hat{y}$ - расчётные показатели временного ряда"
   ]
  },
  {
   "cell_type": "code",
   "execution_count": 8,
   "metadata": {},
   "outputs": [],
   "source": [
    "def r_squared(Y,YTH):\n",
    "    Y_mean = np.mean(Y)\n",
    "    SS_res = sum([(Y[i] - YTH[i])**2 for i in range(len(Y))])\n",
    "    SS_tot = sum([(item - Y_mean)**2 for item in Y])\n",
    "    coef = 1-(SS_res/SS_tot)\n",
    "    return \"{}%\".format(round(coef*100,2))"
   ]
  },
  {
   "cell_type": "markdown",
   "metadata": {},
   "source": [
    "### Функция расчёта критерия Дарбина-Уотсона\n",
    "Статистическая проверка наличия (отсутствия) автокорреляции в ряде остатков чаще всего осуществляется с помощью критерия Дарбина — Уотсона. Для этого строим эмпирическую (расчетную) статистику Дарбина — Уотсона (d-статистику), которая рассчитывается по формуле:\n",
    "## <center>$d = \\frac{\\sum_{i=2}^{n} (e_i-e_{i-1})^2}{\\sum_{i=1}^{n} {e_i}^2}$,</center>\n",
    "где $e$ - ряд остатков. Значение полученной d-статистики сравнивается с границами интервала критических значений"
   ]
  },
  {
   "cell_type": "code",
   "execution_count": 9,
   "metadata": {},
   "outputs": [],
   "source": [
    "darbin_watson = lambda e: {'value' : sum([(e[i] - e[i-1])**2 for i in range(1,len(e))])/sum([e[i]**2 for i in range(len(e))]),\n",
    "                           'df': len(e)-1 }"
   ]
  },
  {
   "cell_type": "markdown",
   "metadata": {},
   "source": [
    "### Функция расчёта R/S критерия\n",
    "Для проверки соответствия распределения ряда остатков нормальному закону чаще всего применяют так называемый R/S-критерий\n",
    "### <center>$R/S = \\frac{e_{max}-e_{min}}{S_e}$,</center>\n",
    "Здесь $e$ - ряд остатков, $e_{max}$ и $e_{min}$ максимальное и минимальное значения уровней ряда остатков, $S_e$ — стандартное отклонение ряда остатков от своего среднего.\n",
    "### <center>$S_e = \\sqrt{\\frac{\\sum_{i=1}^{n} (e_i-\\overline{e})^2}{n-1}}$</center>\n",
    "Критические границы отношения R/S заданы таблично. Гипотеза о соответствии распределения ряда остатков нормальному закону принимается на выбранном уровне значимости а при условии, что эмпирическое (расчетное) значение R/S-критерия окажется внутри критических границ для данного уровня значимости."
   ]
  },
  {
   "cell_type": "code",
   "execution_count": 10,
   "metadata": {},
   "outputs": [],
   "source": [
    "rs_crit = lambda e: round((max(e)-min(e))/np.std(e, ddof = 1),2)"
   ]
  },
  {
   "cell_type": "markdown",
   "metadata": {},
   "source": [
    "### Функция расчёта t-критерия Стьюдента\n",
    "Для проверки гипотезы о равенстве математического ожидания уровней ряда остатков нулю, т.е о том, что среднее значение ряда остатков статистически незначимо отличается от нуля строится эмпирическая (расчетная) t-статистика:\n",
    "## <center>$t = \\frac{|\\overline{e}-0|\\sqrt{n}}{S_e}$</center>\n",
    "где $e$ - ряд остатков. Проверяемую гипотезу отклоняем на уровне значимости $а$, где $t_a$ — критерий распределения Стьюдента, соответствующий доверительной вероятности Р = (1-а)и v = (n-l) степеням свободы. В случае противоположного знака неравенства нулевая гипотеза не отклоняется."
   ]
  },
  {
   "cell_type": "code",
   "execution_count": 11,
   "metadata": {},
   "outputs": [],
   "source": [
    "student = lambda e: {'value' :abs(np.mean(e)-0)*np.sqrt(len(e))/(np.std(e, ddof = 1)), 'df' : len(e)-1}"
   ]
  },
  {
   "cell_type": "markdown",
   "metadata": {},
   "source": [
    "### Функция расчёта критерия пиков\n",
    "Проверка случайности колебаний уровней остаточной последовательности осуществляется критерием пиков (поворотных точек). Уровень последовательности $e_t$ считается максимумом, если он больше двух рядом стоящих уровней, т.е. $e_{t-1} < e_t > e_{t+1}$, и минимумом, если он меньше обоих соседних уровней, т.е. $e_{t-1} > e_t < e_{t+1}$. В обоих случаях $e_t$ считается поворотной точкой; общее число поворотных точек для остаточной последовательности $e_t$ обозначим через р. В случайной выборке математическое ожидание числа точек поворота р и дисперсия g выражаются формулами:\n",
    "### <center>$p = \\frac{2}{3}(n-2)$</center>\n",
    "### <center>$g = \\frac{16n-29}{90}$</center>\n",
    "Критерием случайности с 5%-ным уровнем значимости, т.е. с доверительной вероятностью 95%, является выполнение неравенства\n",
    "### <center>$p > [\\overline{p} - 1,96\\sqrt{g}]$</center>\n",
    "где квадратные скобки означают целую часть числа. Если это неравенство не выполняется, трендовая модель считается неадекватной."
   ]
  },
  {
   "cell_type": "code",
   "execution_count": 12,
   "metadata": {},
   "outputs": [],
   "source": [
    "def pick_crit(e):\n",
    "    p = (2/3)*(len(e)-2)\n",
    "    g = np.modf(p - 1.96*np.sqrt((16*len(e)-29)/90))\n",
    "    return {\n",
    "        'p:': p,\n",
    "        'g:': g[1],\n",
    "        'p > g:': p > g[1]\n",
    "    }"
   ]
  },
  {
   "cell_type": "markdown",
   "metadata": {},
   "source": [
    "## Построение модели Брауна\n",
    "Модель Брауна определяется формулой:\n",
    "### <center>$y_{th} = a_0+a_1\\tau$</center>\n",
    "### Определение параметра $\\alpha$\n",
    "Здесь используется оптимизированное значение параметра $\\alpha$, процесс поиска оптимального значения параметра $\\alpha$ описан [здесь](http://link). Параметр $\\alpha$ используется для нахождения параметра $\\beta$"
   ]
  },
  {
   "cell_type": "code",
   "execution_count": 13,
   "metadata": {},
   "outputs": [],
   "source": [
    "alpha = 0.32334426"
   ]
  },
  {
   "cell_type": "markdown",
   "metadata": {},
   "source": [
    "Нахождение параметра $\\beta$ и начальных значений $a_0,a_1$ по методу МНК. \n",
    "Для корректировки значений $a_0,a_1$ используется параметр $\\beta = 1 - \\alpha$"
   ]
  },
  {
   "cell_type": "code",
   "execution_count": 14,
   "metadata": {},
   "outputs": [
    {
     "name": "stdout",
     "output_type": "stream",
     "text": [
      "16.679999999999996 10.48\n"
     ]
    }
   ],
   "source": [
    "beta = 1 - alpha\n",
    "a0,a1 = segment_slope(data)\n",
    "print(a0, a1)"
   ]
  },
  {
   "cell_type": "markdown",
   "metadata": {},
   "source": [
    "Производится расчёт $y_{th}$. Корректировка значений $a_0,a_1$ производится по формулам:\n",
    "### <center>$a_{0(t)} = a_{0(t-1}+a_{1(t-1)}+(1-{\\beta}^2)\\varepsilon{t}$</center>\n",
    "### <center>$a_{1(t)} = a_{1(t-1}+(1-{\\beta})^2\\varepsilon{t}$</center>\n",
    "$y_t$ расчитывается по формуле:\n",
    "### <center>$y_{th} = a_{0(t)}+a_{1(t)}$</center>\n",
    "Расчёт ошибки аппроксимации производится по формуле:\n",
    "### <center>$\\overline{e} = \\frac{|\\overline{y}-\\overline{\\hat{y}}|}{\\overline{y}}$,</center>\n",
    "что равнозначно:\n",
    "### <center>$e_t = \\frac{|y_t-\\hat{y}_t|}{y_t}$</center>"
   ]
  },
  {
   "cell_type": "code",
   "execution_count": 15,
   "metadata": {},
   "outputs": [
    {
     "name": "stdout",
     "output_type": "stream",
     "text": [
      "[27.159999999999997] [0.14000000000000412]\n"
     ]
    }
   ],
   "source": [
    "y = data.iloc[:, 1]\n",
    "yth = []\n",
    "e = []\n",
    "yth.append(sum([a0,a1]))\n",
    "e.append(y[0]-yth[0])\n",
    "e_appr = []\n",
    "print(yth, e)\n",
    "for i in range(1,len(y)):\n",
    "    a0 = a0 + a1 + (1- beta**2)*e[i-1]\n",
    "    a1 = a1 + (1 - beta)**2*e[i-1]\n",
    "    yi = sum([a0,a1])\n",
    "    yth.append(yi)\n",
    "    e.append(y[i]-yi)\n",
    "    \n",
    "for i in range(0,len(y)):\n",
    "    e_appr.append(abs(e[i])/y[i])"
   ]
  },
  {
   "cell_type": "markdown",
   "metadata": {},
   "source": [
    "### Заполнение таблицы"
   ]
  },
  {
   "cell_type": "code",
   "execution_count": 57,
   "metadata": {},
   "outputs": [
    {
     "data": {
      "text/html": [
       "<table border=\"1\" class=\"dataframe\">\n",
       "  <tbody>\n",
       "    <tr>\n",
       "      <th>t</th>\n",
       "      <td>1</td>\n",
       "      <td>2</td>\n",
       "      <td>3</td>\n",
       "      <td>4</td>\n",
       "      <td>5</td>\n",
       "      <td>6</td>\n",
       "      <td>7</td>\n",
       "      <td>8</td>\n",
       "      <td>9</td>\n",
       "      <td>10</td>\n",
       "      <td>11</td>\n",
       "      <td>12</td>\n",
       "      <td>13</td>\n",
       "      <td>14</td>\n",
       "      <td>15</td>\n",
       "      <td>16</td>\n",
       "      <td>17</td>\n",
       "      <td>18</td>\n",
       "      <td>19</td>\n",
       "      <td>20</td>\n",
       "      <td>21</td>\n",
       "      <td>22</td>\n",
       "      <td>23</td>\n",
       "      <td>24</td>\n",
       "      <td>25</td>\n",
       "      <td>26</td>\n",
       "      <td>27</td>\n",
       "      <td>28</td>\n",
       "      <td>29</td>\n",
       "      <td>30</td>\n",
       "      <td>31</td>\n",
       "      <td>32</td>\n",
       "      <td>33</td>\n",
       "      <td>34</td>\n",
       "      <td>35</td>\n",
       "    </tr>\n",
       "    <tr>\n",
       "      <th>y</th>\n",
       "      <td>27.3</td>\n",
       "      <td>41.8</td>\n",
       "      <td>42.8</td>\n",
       "      <td>56.2</td>\n",
       "      <td>72.5</td>\n",
       "      <td>56</td>\n",
       "      <td>70</td>\n",
       "      <td>74.9</td>\n",
       "      <td>103.3</td>\n",
       "      <td>111.3</td>\n",
       "      <td>125.2</td>\n",
       "      <td>189.3</td>\n",
       "      <td>169.1</td>\n",
       "      <td>193.5</td>\n",
       "      <td>207.4</td>\n",
       "      <td>221.2</td>\n",
       "      <td>267.2</td>\n",
       "      <td>264</td>\n",
       "      <td>273.8</td>\n",
       "      <td>321</td>\n",
       "      <td>317.4</td>\n",
       "      <td>342</td>\n",
       "      <td>350.6</td>\n",
       "      <td>368.5</td>\n",
       "      <td>397</td>\n",
       "      <td>382.9</td>\n",
       "      <td>400.6</td>\n",
       "      <td>409.4</td>\n",
       "      <td>426</td>\n",
       "      <td>402</td>\n",
       "      <td>398.7</td>\n",
       "      <td>418.1</td>\n",
       "      <td>426.6</td>\n",
       "      <td>435.1</td>\n",
       "      <td>439.8</td>\n",
       "    </tr>\n",
       "    <tr>\n",
       "      <th>y*</th>\n",
       "      <td>28.94</td>\n",
       "      <td>26.842</td>\n",
       "      <td>44.2566</td>\n",
       "      <td>53.2428</td>\n",
       "      <td>82.1716</td>\n",
       "      <td>76.0408</td>\n",
       "      <td>70</td>\n",
       "      <td>78.3601</td>\n",
       "      <td>101.026</td>\n",
       "      <td>100.596</td>\n",
       "      <td>114.379</td>\n",
       "      <td>130.472</td>\n",
       "      <td>196.232</td>\n",
       "      <td>181.373</td>\n",
       "      <td>199.354</td>\n",
       "      <td>218.195</td>\n",
       "      <td>247.454</td>\n",
       "      <td>264.784</td>\n",
       "      <td>276.628</td>\n",
       "      <td>289.883</td>\n",
       "      <td>339.575</td>\n",
       "      <td>331.17</td>\n",
       "      <td>351.06</td>\n",
       "      <td>367.836</td>\n",
       "      <td>396.897</td>\n",
       "      <td>403.607</td>\n",
       "      <td>402.761</td>\n",
       "      <td>417.185</td>\n",
       "      <td>439.228</td>\n",
       "      <td>434.598</td>\n",
       "      <td>423.611</td>\n",
       "      <td>419.256</td>\n",
       "      <td>440.809</td>\n",
       "      <td>430.627</td>\n",
       "      <td>440.224</td>\n",
       "    </tr>\n",
       "    <tr>\n",
       "      <th>e_appr</th>\n",
       "      <td>0.0600733</td>\n",
       "      <td>0.357847</td>\n",
       "      <td>0.0340338</td>\n",
       "      <td>0.0526201</td>\n",
       "      <td>0.133402</td>\n",
       "      <td>0.357872</td>\n",
       "      <td>1.55702e-09</td>\n",
       "      <td>0.0461964</td>\n",
       "      <td>0.0220091</td>\n",
       "      <td>0.0961704</td>\n",
       "      <td>0.0864266</td>\n",
       "      <td>0.310767</td>\n",
       "      <td>0.160452</td>\n",
       "      <td>0.062674</td>\n",
       "      <td>0.0387935</td>\n",
       "      <td>0.0135836</td>\n",
       "      <td>0.0739001</td>\n",
       "      <td>0.00296821</td>\n",
       "      <td>0.010327</td>\n",
       "      <td>0.0969375</td>\n",
       "      <td>0.0698634</td>\n",
       "      <td>0.031666</td>\n",
       "      <td>0.00131157</td>\n",
       "      <td>0.00180146</td>\n",
       "      <td>0.000258446</td>\n",
       "      <td>0.0540806</td>\n",
       "      <td>0.00539321</td>\n",
       "      <td>0.0190163</td>\n",
       "      <td>0.0310525</td>\n",
       "      <td>0.0810901</td>\n",
       "      <td>0.0624794</td>\n",
       "      <td>0.00276607</td>\n",
       "      <td>0.0333078</td>\n",
       "      <td>0.0102803</td>\n",
       "      <td>0.000963927</td>\n",
       "    </tr>\n",
       "  </tbody>\n",
       "</table>"
      ],
      "text/plain": [
       "<IPython.core.display.HTML object>"
      ]
     },
     "execution_count": 57,
     "metadata": {},
     "output_type": "execute_result"
    }
   ],
   "source": [
    "brown_model = data.copy()\n",
    "brown_model['t'] = brown_model['t'].apply(str)\n",
    "brown_model.insert(2, 'y*', yth)\n",
    "brown_model.insert(3, 'e_appr', e_appr)\n",
    "HTML(brown_model.T.to_html(header = False))"
   ]
  },
  {
   "cell_type": "markdown",
   "metadata": {},
   "source": [
    "### Построение графика\n",
    "В данном случае $y*$ - модель Брауна временного ряда, наложенная на $y$ - исходный врменной ряд"
   ]
  },
  {
   "cell_type": "code",
   "execution_count": 17,
   "metadata": {},
   "outputs": [
    {
     "data": {
      "image/png": "[encoded data removed]",
      "text/plain": [
       "<Figure size 1152x648 with 1 Axes>"
      ]
     },
     "metadata": {
      "needs_background": "light"
     },
     "output_type": "display_data"
    }
   ],
   "source": [
    "plot = brown_model.plot(x = 't', y = ['y','y*'], figsize=(16, 9), grid = True, marker='o',xlim = (0,len(data)+1), title = \"Модель Брауна\")"
   ]
  },
  {
   "cell_type": "markdown",
   "metadata": {},
   "source": [
    "## Адекватность и точность модели\n",
    "### Средняя ошибка аппроксимации"
   ]
  },
  {
   "cell_type": "code",
   "execution_count": 18,
   "metadata": {},
   "outputs": [
    {
     "name": "stdout",
     "output_type": "stream",
     "text": [
      "6.68%\n"
     ]
    }
   ],
   "source": [
    "err = np.mean(e_appr)*100\n",
    "print('{}%'.format(round(err,2)))"
   ]
  },
  {
   "cell_type": "markdown",
   "metadata": {},
   "source": [
    "### Коэффициент детерминации"
   ]
  },
  {
   "cell_type": "code",
   "execution_count": 19,
   "metadata": {},
   "outputs": [
    {
     "name": "stdout",
     "output_type": "stream",
     "text": [
      "98.62%\n"
     ]
    }
   ],
   "source": [
    "value = r_squared(y,yth)\n",
    "print(value)"
   ]
  },
  {
   "cell_type": "markdown",
   "metadata": {},
   "source": [
    "### Критерий Дарбина-Уотсона"
   ]
  },
  {
   "cell_type": "code",
   "execution_count": 20,
   "metadata": {
    "scrolled": true
   },
   "outputs": [
    {
     "name": "stdout",
     "output_type": "stream",
     "text": [
      "{'value': 1.1351998098499423, 'df': 34}\n"
     ]
    }
   ],
   "source": [
    "value = darbin_watson(e_appr)\n",
    "print(value)"
   ]
  },
  {
   "cell_type": "markdown",
   "metadata": {},
   "source": [
    "Согласно [таблице критических значений критерия Дарбина-Уотсона](https://helpstat.ru/statistika-darbina-uotsona-dl-i-du/), полученное значение, при числе степеней свободы $df = 34$, и числе объясняющих переменных $k = 1$, меньше $dl = 1,184$, что означает наличие автокорелляции в ряде остатков. Из этого можно сделать вывод, что модель нельзя назвать адекватной"
   ]
  },
  {
   "cell_type": "markdown",
   "metadata": {},
   "source": [
    "### R/S критерий"
   ]
  },
  {
   "cell_type": "code",
   "execution_count": 21,
   "metadata": {},
   "outputs": [
    {
     "name": "stdout",
     "output_type": "stream",
     "text": [
      "4.82\n"
     ]
    }
   ],
   "source": [
    "value = rs_crit(e_appr)\n",
    "print(value)"
   ]
  },
  {
   "cell_type": "markdown",
   "metadata": {},
   "source": [
    "Согласно [таблице критических значений R/S критерия](https://studme.org/142770/marketing/proverka_adekvatnosti_tochnosti_modeli), полученное значение, для длины временного ряда $l = 35$, лежит в интервале $3,58 < 4,82 < 4,84$, что соответствует доверительной вероятности $p = 0,05$. Из чего можно сделать вывод, что модель можно назвать адекватной"
   ]
  },
  {
   "cell_type": "markdown",
   "metadata": {},
   "source": [
    "### t-критерий Стьюдента"
   ]
  },
  {
   "cell_type": "code",
   "execution_count": 22,
   "metadata": {},
   "outputs": [
    {
     "name": "stdout",
     "output_type": "stream",
     "text": [
      "{'value': 4.3704658119140465, 'df': 34}\n"
     ]
    }
   ],
   "source": [
    "value = student(e_appr)\n",
    "print(value)"
   ]
  },
  {
   "cell_type": "markdown",
   "metadata": {},
   "source": [
    "Согласно [таблице критических значений t-критерия Стьюдента](https://statpsy.ru/t-student/t-test-tablica/) , полученное значение, при числе степеней свободы $df = 34$ находится дальше чем $3,601$, что соответствует доверительной вероятности $p = 0,001$. Из чего можно сделать вывод, что средние значения в исследуемой выборке не отличаются от нормальных."
   ]
  },
  {
   "cell_type": "markdown",
   "metadata": {},
   "source": [
    "### Критерий пиков"
   ]
  },
  {
   "cell_type": "code",
   "execution_count": 23,
   "metadata": {},
   "outputs": [
    {
     "name": "stdout",
     "output_type": "stream",
     "text": [
      "{'p:': 22.0, 'g:': 17.0, 'p > g:': True}\n"
     ]
    }
   ],
   "source": [
    "value = pick_crit(e)\n",
    "print(value)"
   ]
  },
  {
   "cell_type": "markdown",
   "metadata": {},
   "source": [
    "Согласно критерию пиков, модель можно назвать адекватной"
   ]
  },
  {
   "cell_type": "markdown",
   "metadata": {},
   "source": [
    "## Прогноз по модели Брауна на 4 шага вперед\n",
    "Прогноз по модели Брауна осуществляется по формуле:\n",
    "### <center>$y_{th}(n+\\tau) = a_{0(n)}+a_{1(n)}\\tau$</center>"
   ]
  },
  {
   "cell_type": "code",
   "execution_count": 24,
   "metadata": {},
   "outputs": [
    {
     "name": "stdout",
     "output_type": "stream",
     "text": [
      "[440.0822253766901, 446.6513323376926, 453.22043929869517, 459.7895462596977]\n"
     ]
    }
   ],
   "source": [
    "p = []\n",
    "for i in range(1,TAU+1):\n",
    "    yi = a0+a1*i\n",
    "    p.append(yi)\n",
    "print(p)"
   ]
  },
  {
   "cell_type": "markdown",
   "metadata": {},
   "source": [
    "### Заполнение таблицы спрогнозированными значениями"
   ]
  },
  {
   "cell_type": "code",
   "execution_count": 58,
   "metadata": {},
   "outputs": [
    {
     "data": {
      "text/html": [
       "<table border=\"1\" class=\"dataframe\">\n",
       "  <tbody>\n",
       "    <tr>\n",
       "      <th>t</th>\n",
       "      <td>1</td>\n",
       "      <td>2</td>\n",
       "      <td>3</td>\n",
       "      <td>4</td>\n",
       "      <td>5</td>\n",
       "      <td>6</td>\n",
       "      <td>7</td>\n",
       "      <td>8</td>\n",
       "      <td>9</td>\n",
       "      <td>10</td>\n",
       "      <td>11</td>\n",
       "      <td>12</td>\n",
       "      <td>13</td>\n",
       "      <td>14</td>\n",
       "      <td>15</td>\n",
       "      <td>16</td>\n",
       "      <td>17</td>\n",
       "      <td>18</td>\n",
       "      <td>19</td>\n",
       "      <td>20</td>\n",
       "      <td>21</td>\n",
       "      <td>22</td>\n",
       "      <td>23</td>\n",
       "      <td>24</td>\n",
       "      <td>25</td>\n",
       "      <td>26</td>\n",
       "      <td>27</td>\n",
       "      <td>28</td>\n",
       "      <td>29</td>\n",
       "      <td>30</td>\n",
       "      <td>31</td>\n",
       "      <td>32</td>\n",
       "      <td>33</td>\n",
       "      <td>34</td>\n",
       "      <td>35</td>\n",
       "      <td>36.0</td>\n",
       "      <td>37.0</td>\n",
       "      <td>38.0</td>\n",
       "      <td>39.0</td>\n",
       "    </tr>\n",
       "    <tr>\n",
       "      <th>y</th>\n",
       "      <td>27.3</td>\n",
       "      <td>41.8</td>\n",
       "      <td>42.8</td>\n",
       "      <td>56.2</td>\n",
       "      <td>72.5</td>\n",
       "      <td>56</td>\n",
       "      <td>70</td>\n",
       "      <td>74.9</td>\n",
       "      <td>103.3</td>\n",
       "      <td>111.3</td>\n",
       "      <td>125.2</td>\n",
       "      <td>189.3</td>\n",
       "      <td>169.1</td>\n",
       "      <td>193.5</td>\n",
       "      <td>207.4</td>\n",
       "      <td>221.2</td>\n",
       "      <td>267.2</td>\n",
       "      <td>264</td>\n",
       "      <td>273.8</td>\n",
       "      <td>321</td>\n",
       "      <td>317.4</td>\n",
       "      <td>342</td>\n",
       "      <td>350.6</td>\n",
       "      <td>368.5</td>\n",
       "      <td>397</td>\n",
       "      <td>382.9</td>\n",
       "      <td>400.6</td>\n",
       "      <td>409.4</td>\n",
       "      <td>426</td>\n",
       "      <td>402</td>\n",
       "      <td>398.7</td>\n",
       "      <td>418.1</td>\n",
       "      <td>426.6</td>\n",
       "      <td>435.1</td>\n",
       "      <td>439.8</td>\n",
       "      <td>NaN</td>\n",
       "      <td>NaN</td>\n",
       "      <td>NaN</td>\n",
       "      <td>NaN</td>\n",
       "    </tr>\n",
       "    <tr>\n",
       "      <th>y*</th>\n",
       "      <td>28.94</td>\n",
       "      <td>26.842</td>\n",
       "      <td>44.2566</td>\n",
       "      <td>53.2428</td>\n",
       "      <td>82.1716</td>\n",
       "      <td>76.0408</td>\n",
       "      <td>70</td>\n",
       "      <td>78.3601</td>\n",
       "      <td>101.026</td>\n",
       "      <td>100.596</td>\n",
       "      <td>114.379</td>\n",
       "      <td>130.472</td>\n",
       "      <td>196.232</td>\n",
       "      <td>181.373</td>\n",
       "      <td>199.354</td>\n",
       "      <td>218.195</td>\n",
       "      <td>247.454</td>\n",
       "      <td>264.784</td>\n",
       "      <td>276.628</td>\n",
       "      <td>289.883</td>\n",
       "      <td>339.575</td>\n",
       "      <td>331.17</td>\n",
       "      <td>351.06</td>\n",
       "      <td>367.836</td>\n",
       "      <td>396.897</td>\n",
       "      <td>403.607</td>\n",
       "      <td>402.761</td>\n",
       "      <td>417.185</td>\n",
       "      <td>439.228</td>\n",
       "      <td>434.598</td>\n",
       "      <td>423.611</td>\n",
       "      <td>419.256</td>\n",
       "      <td>440.809</td>\n",
       "      <td>430.627</td>\n",
       "      <td>440.224</td>\n",
       "      <td>NaN</td>\n",
       "      <td>NaN</td>\n",
       "      <td>NaN</td>\n",
       "      <td>NaN</td>\n",
       "    </tr>\n",
       "    <tr>\n",
       "      <th>e_appr</th>\n",
       "      <td>0.0600733</td>\n",
       "      <td>0.357847</td>\n",
       "      <td>0.0340338</td>\n",
       "      <td>0.0526201</td>\n",
       "      <td>0.133402</td>\n",
       "      <td>0.357872</td>\n",
       "      <td>1.55702e-09</td>\n",
       "      <td>0.0461964</td>\n",
       "      <td>0.0220091</td>\n",
       "      <td>0.0961704</td>\n",
       "      <td>0.0864266</td>\n",
       "      <td>0.310767</td>\n",
       "      <td>0.160452</td>\n",
       "      <td>0.062674</td>\n",
       "      <td>0.0387935</td>\n",
       "      <td>0.0135836</td>\n",
       "      <td>0.0739001</td>\n",
       "      <td>0.00296821</td>\n",
       "      <td>0.010327</td>\n",
       "      <td>0.0969375</td>\n",
       "      <td>0.0698634</td>\n",
       "      <td>0.031666</td>\n",
       "      <td>0.00131157</td>\n",
       "      <td>0.00180146</td>\n",
       "      <td>0.000258446</td>\n",
       "      <td>0.0540806</td>\n",
       "      <td>0.00539321</td>\n",
       "      <td>0.0190163</td>\n",
       "      <td>0.0310525</td>\n",
       "      <td>0.0810901</td>\n",
       "      <td>0.0624794</td>\n",
       "      <td>0.00276607</td>\n",
       "      <td>0.0333078</td>\n",
       "      <td>0.0102803</td>\n",
       "      <td>0.000963927</td>\n",
       "      <td>NaN</td>\n",
       "      <td>NaN</td>\n",
       "      <td>NaN</td>\n",
       "      <td>NaN</td>\n",
       "    </tr>\n",
       "    <tr>\n",
       "      <th>pred</th>\n",
       "      <td>NaN</td>\n",
       "      <td>NaN</td>\n",
       "      <td>NaN</td>\n",
       "      <td>NaN</td>\n",
       "      <td>NaN</td>\n",
       "      <td>NaN</td>\n",
       "      <td>NaN</td>\n",
       "      <td>NaN</td>\n",
       "      <td>NaN</td>\n",
       "      <td>NaN</td>\n",
       "      <td>NaN</td>\n",
       "      <td>NaN</td>\n",
       "      <td>NaN</td>\n",
       "      <td>NaN</td>\n",
       "      <td>NaN</td>\n",
       "      <td>NaN</td>\n",
       "      <td>NaN</td>\n",
       "      <td>NaN</td>\n",
       "      <td>NaN</td>\n",
       "      <td>NaN</td>\n",
       "      <td>NaN</td>\n",
       "      <td>NaN</td>\n",
       "      <td>NaN</td>\n",
       "      <td>NaN</td>\n",
       "      <td>NaN</td>\n",
       "      <td>NaN</td>\n",
       "      <td>NaN</td>\n",
       "      <td>NaN</td>\n",
       "      <td>NaN</td>\n",
       "      <td>NaN</td>\n",
       "      <td>NaN</td>\n",
       "      <td>NaN</td>\n",
       "      <td>NaN</td>\n",
       "      <td>NaN</td>\n",
       "      <td>440.224</td>\n",
       "      <td>450.715</td>\n",
       "      <td>472.005</td>\n",
       "      <td>471.214</td>\n",
       "      <td>477.933</td>\n",
       "    </tr>\n",
       "  </tbody>\n",
       "</table>"
      ],
      "text/plain": [
       "<IPython.core.display.HTML object>"
      ]
     },
     "execution_count": 58,
     "metadata": {},
     "output_type": "execute_result"
    }
   ],
   "source": [
    "for index, item in enumerate(p):\n",
    "    brown_model = brown_model.append({'t': 1+index+len(data['t']), 'pred': item}, ignore_index = True) \n",
    "brown_model.loc[len(data['t'])-1, 'pred'] = brown_model.loc[len(data['t'])-1,'y*']\n",
    "brown_model['t'] = brown_model['t'].apply(str)\n",
    "HTML(brown_model.T.to_html(header=False))"
   ]
  },
  {
   "cell_type": "markdown",
   "metadata": {},
   "source": [
    "### Построение графика\n",
    "Здесь $y$ - исходный временной ряд, $y*$ - модель, $pred$ - прогноз"
   ]
  },
  {
   "cell_type": "code",
   "execution_count": 26,
   "metadata": {},
   "outputs": [
    {
     "data": {
      "text/plain": [
       "<matplotlib.axes._subplots.AxesSubplot at 0x1bf3cb340b8>"
      ]
     },
     "execution_count": 26,
     "metadata": {},
     "output_type": "execute_result"
    },
    {
     "data": {
      "image/png": "[encoded data removed]",
      "text/plain": [
       "<Figure size 1152x648 with 1 Axes>"
      ]
     },
     "metadata": {
      "needs_background": "light"
     },
     "output_type": "display_data"
    }
   ],
   "source": [
    "brown_model.plot(x = 't', y = ['y','y*', 'pred'], figsize=(16, 9), grid = True, marker='o', xlim = (0,len(brown_model)+1), title = \"Прогноз по модели Брауна\")"
   ]
  },
  {
   "cell_type": "markdown",
   "metadata": {},
   "source": [
    "## Построение модели Хольта-Уинтерса\n",
    "Модель Хольта-Уинтерса определяется формулой:\n",
    "### <center>$y_{th} = (a_0+\\tau a_1)F_i$</center>\n",
    "\n",
    "### Определение параметров сглаживания $\\lambda_1, \\lambda_2, \\lambda_3$\n",
    "Здесь используются оптимизированные значения параметров $\\lambda_1, \\lambda_2, \\lambda_3$, процесс поиска оптимальных значений параметров $\\lambda_1, \\lambda_2, \\lambda_3$ описан [здесь](http://link)."
   ]
  },
  {
   "cell_type": "code",
   "execution_count": 27,
   "metadata": {},
   "outputs": [],
   "source": [
    "l1, l2, l3 = 0.33136274, 0.3984803, 0.39224247"
   ]
  },
  {
   "cell_type": "markdown",
   "metadata": {},
   "source": [
    "Нахождение начальных параметров $a_0,a_1$ проивзодится по методу МНК. Нахождение предыдущих сезонных трендовых значений производится согласно формулам, описанным выше"
   ]
  },
  {
   "cell_type": "code",
   "execution_count": 28,
   "metadata": {},
   "outputs": [
    {
     "name": "stdout",
     "output_type": "stream",
     "text": [
      "16.679999999999996 10.48\n"
     ]
    }
   ],
   "source": [
    "a0,a1 = segment_slope(data)\n",
    "print(a0, a1)\n",
    "y_r = [linear(a0,a1,i) for i in range(1,9)] \n",
    "y = data.iloc[:, 1]\n",
    "f = HW_start_values(y,y_r)"
   ]
  },
  {
   "cell_type": "markdown",
   "metadata": {},
   "source": [
    "### Трендсезонные значения на предыдущий период"
   ]
  },
  {
   "cell_type": "code",
   "execution_count": 29,
   "metadata": {},
   "outputs": [
    {
     "data": {
      "text/html": [
       "<table border=\"1\" class=\"dataframe\">\n",
       "  <thead>\n",
       "    <tr style=\"text-align: right;\">\n",
       "      <th>t</th>\n",
       "      <th>f</th>\n",
       "    </tr>\n",
       "  </thead>\n",
       "  <tbody>\n",
       "    <tr>\n",
       "      <td>-3</td>\n",
       "      <td>1.027331</td>\n",
       "    </tr>\n",
       "    <tr>\n",
       "      <td>-2</td>\n",
       "      <td>0.907196</td>\n",
       "    </tr>\n",
       "    <tr>\n",
       "      <td>-1</td>\n",
       "      <td>0.833438</td>\n",
       "    </tr>\n",
       "    <tr>\n",
       "      <td>0</td>\n",
       "      <td>0.852085</td>\n",
       "    </tr>\n",
       "  </tbody>\n",
       "</table>"
      ],
      "text/plain": [
       "<IPython.core.display.HTML object>"
      ]
     },
     "execution_count": 29,
     "metadata": {},
     "output_type": "execute_result"
    }
   ],
   "source": [
    "frame = pd.DataFrame.from_dict({'t': [i+1 for i in range(-len(f),0)], 'f': f})\n",
    "HTML(frame.to_html(index = False))"
   ]
  },
  {
   "cell_type": "markdown",
   "metadata": {},
   "source": [
    "Производится расчёт $y_{th}$. Корректировка значений $a_0,a_1$ производится по формулам:\n",
    "### <center>$a_{0(t)} = \\lambda_1\\frac{y_t}{F_{t-l}}+(1-\\lambda_1)(a_{0(t-1)}+a_{1(t-1)})$</center>\n",
    "### <center>$F_t = \\lambda_2\\frac{y_t}{a_{0(t)}}+(1-\\lambda_2)F_{t-l}$</center>\n",
    "### <center>$a_{1(t)} = \\lambda_3(a_{0(t)}-a_{0(t-1)})$</center>\n",
    "$y_t$ расчитывается по формуле:\n",
    "### <center>$y_{th} = (a_{0(t)}+a_{1(t)})F_{t-l}$</center>\n",
    "Расчёт ошибки аппроксимации производится по формуле:\n",
    "### <center>$\\overline{e} = \\frac{|\\overline{y}-\\overline{\\hat{y}}|}{\\overline{y}}$,</center>\n",
    "что равнозначно:\n",
    "### <center>$e_t = \\frac{|y_t-\\hat{y}_t|}{y_t}$</center>"
   ]
  },
  {
   "cell_type": "code",
   "execution_count": 30,
   "metadata": {},
   "outputs": [],
   "source": [
    "yth, e, e_appr = [], [], []\n",
    "for i in range(len(y)):\n",
    "    yi = (a0+a1)*f[i]\n",
    "    yth.append(yi)\n",
    "    e.append(y[i]-yi)\n",
    "    e_appr.append(abs(e[i])/y[i])\n",
    "    temp = a0\n",
    "    a0 = l1*(y[i]/f[i])+(1-l1)*(a0+a1)\n",
    "    f.append(l2*(y[i]/a0)+(1-l2)*f[i])\n",
    "    a1 = l3*(a0 - temp)+(1-l3)*a1"
   ]
  },
  {
   "cell_type": "markdown",
   "metadata": {},
   "source": [
    "### Заполнение таблицы"
   ]
  },
  {
   "cell_type": "code",
   "execution_count": 59,
   "metadata": {},
   "outputs": [
    {
     "data": {
      "text/html": [
       "<table border=\"1\" class=\"dataframe\">\n",
       "  <tbody>\n",
       "    <tr>\n",
       "      <th>t</th>\n",
       "      <td>1</td>\n",
       "      <td>2</td>\n",
       "      <td>3</td>\n",
       "      <td>4</td>\n",
       "      <td>5</td>\n",
       "      <td>6</td>\n",
       "      <td>7</td>\n",
       "      <td>8</td>\n",
       "      <td>9</td>\n",
       "      <td>10</td>\n",
       "      <td>11</td>\n",
       "      <td>12</td>\n",
       "      <td>13</td>\n",
       "      <td>14</td>\n",
       "      <td>15</td>\n",
       "      <td>16</td>\n",
       "      <td>17</td>\n",
       "      <td>18</td>\n",
       "      <td>19</td>\n",
       "      <td>20</td>\n",
       "      <td>21</td>\n",
       "      <td>22</td>\n",
       "      <td>23</td>\n",
       "      <td>24</td>\n",
       "      <td>25</td>\n",
       "      <td>26</td>\n",
       "      <td>27</td>\n",
       "      <td>28</td>\n",
       "      <td>29</td>\n",
       "      <td>30</td>\n",
       "      <td>31</td>\n",
       "      <td>32</td>\n",
       "      <td>33</td>\n",
       "      <td>34</td>\n",
       "      <td>35</td>\n",
       "    </tr>\n",
       "    <tr>\n",
       "      <th>y</th>\n",
       "      <td>27.3</td>\n",
       "      <td>41.8</td>\n",
       "      <td>42.8</td>\n",
       "      <td>56.2</td>\n",
       "      <td>72.5</td>\n",
       "      <td>56</td>\n",
       "      <td>70</td>\n",
       "      <td>74.9</td>\n",
       "      <td>103.3</td>\n",
       "      <td>111.3</td>\n",
       "      <td>125.2</td>\n",
       "      <td>189.3</td>\n",
       "      <td>169.1</td>\n",
       "      <td>193.5</td>\n",
       "      <td>207.4</td>\n",
       "      <td>221.2</td>\n",
       "      <td>267.2</td>\n",
       "      <td>264</td>\n",
       "      <td>273.8</td>\n",
       "      <td>321</td>\n",
       "      <td>317.4</td>\n",
       "      <td>342</td>\n",
       "      <td>350.6</td>\n",
       "      <td>368.5</td>\n",
       "      <td>397</td>\n",
       "      <td>382.9</td>\n",
       "      <td>400.6</td>\n",
       "      <td>409.4</td>\n",
       "      <td>426</td>\n",
       "      <td>402</td>\n",
       "      <td>398.7</td>\n",
       "      <td>418.1</td>\n",
       "      <td>426.6</td>\n",
       "      <td>435.1</td>\n",
       "      <td>439.8</td>\n",
       "    </tr>\n",
       "    <tr>\n",
       "      <th>y*</th>\n",
       "      <td>28.94</td>\n",
       "      <td>26.842</td>\n",
       "      <td>44.2566</td>\n",
       "      <td>53.2428</td>\n",
       "      <td>82.1716</td>\n",
       "      <td>76.0408</td>\n",
       "      <td>70</td>\n",
       "      <td>78.3601</td>\n",
       "      <td>101.026</td>\n",
       "      <td>100.596</td>\n",
       "      <td>114.379</td>\n",
       "      <td>130.472</td>\n",
       "      <td>196.232</td>\n",
       "      <td>181.373</td>\n",
       "      <td>199.354</td>\n",
       "      <td>218.195</td>\n",
       "      <td>247.454</td>\n",
       "      <td>264.784</td>\n",
       "      <td>276.628</td>\n",
       "      <td>289.883</td>\n",
       "      <td>339.575</td>\n",
       "      <td>331.17</td>\n",
       "      <td>351.06</td>\n",
       "      <td>367.836</td>\n",
       "      <td>396.897</td>\n",
       "      <td>403.607</td>\n",
       "      <td>402.761</td>\n",
       "      <td>417.185</td>\n",
       "      <td>439.228</td>\n",
       "      <td>434.598</td>\n",
       "      <td>423.611</td>\n",
       "      <td>419.256</td>\n",
       "      <td>440.809</td>\n",
       "      <td>430.627</td>\n",
       "      <td>440.224</td>\n",
       "    </tr>\n",
       "    <tr>\n",
       "      <th>f</th>\n",
       "      <td>1.02138</td>\n",
       "      <td>0.959475</td>\n",
       "      <td>0.831561</td>\n",
       "      <td>0.86212</td>\n",
       "      <td>1.00333</td>\n",
       "      <td>0.868852</td>\n",
       "      <td>0.831561</td>\n",
       "      <td>0.849435</td>\n",
       "      <td>1.01873</td>\n",
       "      <td>0.911898</td>\n",
       "      <td>0.874996</td>\n",
       "      <td>0.949109</td>\n",
       "      <td>0.975039</td>\n",
       "      <td>0.919255</td>\n",
       "      <td>0.883399</td>\n",
       "      <td>0.928413</td>\n",
       "      <td>0.983092</td>\n",
       "      <td>0.917952</td>\n",
       "      <td>0.884678</td>\n",
       "      <td>0.940735</td>\n",
       "      <td>0.957196</td>\n",
       "      <td>0.923867</td>\n",
       "      <td>0.891048</td>\n",
       "      <td>0.929523</td>\n",
       "      <td>0.952819</td>\n",
       "      <td>0.91106</td>\n",
       "      <td>0.894175</td>\n",
       "      <td>0.918449</td>\n",
       "      <td>0.942131</td>\n",
       "      <td>0.895915</td>\n",
       "      <td>0.883416</td>\n",
       "      <td>0.914177</td>\n",
       "      <td>0.936535</td>\n",
       "      <td>0.908575</td>\n",
       "      <td>0.895379</td>\n",
       "    </tr>\n",
       "    <tr>\n",
       "      <th>e_appr</th>\n",
       "      <td>0.0600733</td>\n",
       "      <td>0.357847</td>\n",
       "      <td>0.0340338</td>\n",
       "      <td>0.0526201</td>\n",
       "      <td>0.133402</td>\n",
       "      <td>0.357872</td>\n",
       "      <td>1.55702e-09</td>\n",
       "      <td>0.0461964</td>\n",
       "      <td>0.0220091</td>\n",
       "      <td>0.0961704</td>\n",
       "      <td>0.0864266</td>\n",
       "      <td>0.310767</td>\n",
       "      <td>0.160452</td>\n",
       "      <td>0.062674</td>\n",
       "      <td>0.0387935</td>\n",
       "      <td>0.0135836</td>\n",
       "      <td>0.0739001</td>\n",
       "      <td>0.00296821</td>\n",
       "      <td>0.010327</td>\n",
       "      <td>0.0969375</td>\n",
       "      <td>0.0698634</td>\n",
       "      <td>0.031666</td>\n",
       "      <td>0.00131157</td>\n",
       "      <td>0.00180146</td>\n",
       "      <td>0.000258446</td>\n",
       "      <td>0.0540806</td>\n",
       "      <td>0.00539321</td>\n",
       "      <td>0.0190163</td>\n",
       "      <td>0.0310525</td>\n",
       "      <td>0.0810901</td>\n",
       "      <td>0.0624794</td>\n",
       "      <td>0.00276607</td>\n",
       "      <td>0.0333078</td>\n",
       "      <td>0.0102803</td>\n",
       "      <td>0.000963927</td>\n",
       "    </tr>\n",
       "  </tbody>\n",
       "</table>"
      ],
      "text/plain": [
       "<IPython.core.display.HTML object>"
      ]
     },
     "execution_count": 59,
     "metadata": {},
     "output_type": "execute_result"
    }
   ],
   "source": [
    "holt_winters_model = data.copy()\n",
    "holt_winters_model['t'] = holt_winters_model['t'].apply(str)\n",
    "holt_winters_model.insert(2, 'y*', yth)\n",
    "holt_winters_model.insert(3, 'f', f[4:])\n",
    "holt_winters_model.insert(4, 'e_appr', e_appr)\n",
    "HTML(holt_winters_model.T.to_html(header = False))"
   ]
  },
  {
   "cell_type": "markdown",
   "metadata": {},
   "source": [
    "### Построение графика\n",
    "В данном случае  𝑦∗  - модель Хольта-Уинтерса временного ряда, наложенная на  𝑦  - исходный врменной ряд"
   ]
  },
  {
   "cell_type": "code",
   "execution_count": 32,
   "metadata": {},
   "outputs": [
    {
     "data": {
      "text/plain": [
       "<matplotlib.axes._subplots.AxesSubplot at 0x1bf3d39f2b0>"
      ]
     },
     "execution_count": 32,
     "metadata": {},
     "output_type": "execute_result"
    },
    {
     "data": {
      "image/png": "[encoded data removed]",
      "text/plain": [
       "<Figure size 1152x648 with 1 Axes>"
      ]
     },
     "metadata": {
      "needs_background": "light"
     },
     "output_type": "display_data"
    }
   ],
   "source": [
    "holt_winters_model.plot(x = 't', y = ['y','y*'], figsize=(16, 9), grid = True, marker='o', xlim = (0,len(data)+1), title = \"Модель Хольта-Уинтерса\")"
   ]
  },
  {
   "cell_type": "markdown",
   "metadata": {},
   "source": [
    "## Адекватность и точность модели\n",
    "### Средняя ошибка аппроксимации"
   ]
  },
  {
   "cell_type": "code",
   "execution_count": 33,
   "metadata": {},
   "outputs": [
    {
     "name": "stdout",
     "output_type": "stream",
     "text": [
      "7.54%\n"
     ]
    }
   ],
   "source": [
    "err = np.mean(e_appr)*100\n",
    "print('{}%'.format(round(err,2)))"
   ]
  },
  {
   "cell_type": "markdown",
   "metadata": {},
   "source": [
    "### Коэффициент детерминации"
   ]
  },
  {
   "cell_type": "code",
   "execution_count": 34,
   "metadata": {},
   "outputs": [
    {
     "name": "stdout",
     "output_type": "stream",
     "text": [
      "98.27%\n"
     ]
    }
   ],
   "source": [
    "value = r_squared(y,yth)\n",
    "print(value)"
   ]
  },
  {
   "cell_type": "markdown",
   "metadata": {},
   "source": [
    "### Критерий Дарбина-Уотсона"
   ]
  },
  {
   "cell_type": "code",
   "execution_count": 35,
   "metadata": {},
   "outputs": [
    {
     "name": "stdout",
     "output_type": "stream",
     "text": [
      "{'value': 1.8696089513831313, 'df': 34}\n"
     ]
    }
   ],
   "source": [
    "value = darbin_watson(e)\n",
    "print(value)"
   ]
  },
  {
   "cell_type": "markdown",
   "metadata": {},
   "source": [
    "### R/S критерий"
   ]
  },
  {
   "cell_type": "code",
   "execution_count": 36,
   "metadata": {},
   "outputs": [
    {
     "name": "stdout",
     "output_type": "stream",
     "text": [
      "5.14\n"
     ]
    }
   ],
   "source": [
    "value = rs_crit(e)\n",
    "print(value)"
   ]
  },
  {
   "cell_type": "markdown",
   "metadata": {},
   "source": [
    "### t-критерий Стьюдента"
   ]
  },
  {
   "cell_type": "code",
   "execution_count": 37,
   "metadata": {},
   "outputs": [
    {
     "name": "stdout",
     "output_type": "stream",
     "text": [
      "{'value': 0.34924313103028304, 'df': 34}\n"
     ]
    }
   ],
   "source": [
    "value = student(e)\n",
    "print(value)"
   ]
  },
  {
   "cell_type": "markdown",
   "metadata": {},
   "source": [
    "### Критерий пиков"
   ]
  },
  {
   "cell_type": "code",
   "execution_count": 38,
   "metadata": {},
   "outputs": [
    {
     "name": "stdout",
     "output_type": "stream",
     "text": [
      "{'p:': 22.0, 'g:': 17.0, 'p > g:': True}\n"
     ]
    }
   ],
   "source": [
    "value = pick_crit(e)\n",
    "print(value)"
   ]
  },
  {
   "cell_type": "markdown",
   "metadata": {},
   "source": [
    "## Прогноз по модели Хольта-Уинтерса на 4 шага вперед\n",
    "Прогноз по модели Хольта-Уинтерса осуществляется по формуле:\n",
    "### <center>$y_{th}(n+\\tau) = (a_{0(n)}+a_{1(n)}\\tau)F_{t-l+\\tau}$</center>"
   ]
  },
  {
   "cell_type": "code",
   "execution_count": 39,
   "metadata": {},
   "outputs": [
    {
     "name": "stdout",
     "output_type": "stream",
     "text": [
      "[447.0422410660401, 465.0300947668956, 457.99076123622933, 458.0839762952651]\n"
     ]
    }
   ],
   "source": [
    "p = []\n",
    "l = len(yth)\n",
    "for i in range(1,TAU+1):\n",
    "    yi = (a0+a1*i)*+f[i+len(yth)-1]\n",
    "    p.append(yi)\n",
    "print(p)"
   ]
  },
  {
   "cell_type": "markdown",
   "metadata": {},
   "source": [
    "### Заполнение таблицы спрогнозированными значениями"
   ]
  },
  {
   "cell_type": "code",
   "execution_count": 60,
   "metadata": {},
   "outputs": [
    {
     "data": {
      "text/html": [
       "<table border=\"1\" class=\"dataframe\">\n",
       "  <tbody>\n",
       "    <tr>\n",
       "      <th>t</th>\n",
       "      <td>1</td>\n",
       "      <td>2</td>\n",
       "      <td>3</td>\n",
       "      <td>4</td>\n",
       "      <td>5</td>\n",
       "      <td>6</td>\n",
       "      <td>7</td>\n",
       "      <td>8</td>\n",
       "      <td>9</td>\n",
       "      <td>10</td>\n",
       "      <td>11</td>\n",
       "      <td>12</td>\n",
       "      <td>13</td>\n",
       "      <td>14</td>\n",
       "      <td>15</td>\n",
       "      <td>16</td>\n",
       "      <td>17</td>\n",
       "      <td>18</td>\n",
       "      <td>19</td>\n",
       "      <td>20</td>\n",
       "      <td>21</td>\n",
       "      <td>22</td>\n",
       "      <td>23</td>\n",
       "      <td>24</td>\n",
       "      <td>25</td>\n",
       "      <td>26</td>\n",
       "      <td>27</td>\n",
       "      <td>28</td>\n",
       "      <td>29</td>\n",
       "      <td>30</td>\n",
       "      <td>31</td>\n",
       "      <td>32</td>\n",
       "      <td>33</td>\n",
       "      <td>34</td>\n",
       "      <td>35</td>\n",
       "      <td>36.0</td>\n",
       "      <td>37.0</td>\n",
       "      <td>38.0</td>\n",
       "      <td>39.0</td>\n",
       "    </tr>\n",
       "    <tr>\n",
       "      <th>y</th>\n",
       "      <td>27.3</td>\n",
       "      <td>41.8</td>\n",
       "      <td>42.8</td>\n",
       "      <td>56.2</td>\n",
       "      <td>72.5</td>\n",
       "      <td>56</td>\n",
       "      <td>70</td>\n",
       "      <td>74.9</td>\n",
       "      <td>103.3</td>\n",
       "      <td>111.3</td>\n",
       "      <td>125.2</td>\n",
       "      <td>189.3</td>\n",
       "      <td>169.1</td>\n",
       "      <td>193.5</td>\n",
       "      <td>207.4</td>\n",
       "      <td>221.2</td>\n",
       "      <td>267.2</td>\n",
       "      <td>264</td>\n",
       "      <td>273.8</td>\n",
       "      <td>321</td>\n",
       "      <td>317.4</td>\n",
       "      <td>342</td>\n",
       "      <td>350.6</td>\n",
       "      <td>368.5</td>\n",
       "      <td>397</td>\n",
       "      <td>382.9</td>\n",
       "      <td>400.6</td>\n",
       "      <td>409.4</td>\n",
       "      <td>426</td>\n",
       "      <td>402</td>\n",
       "      <td>398.7</td>\n",
       "      <td>418.1</td>\n",
       "      <td>426.6</td>\n",
       "      <td>435.1</td>\n",
       "      <td>439.8</td>\n",
       "      <td>NaN</td>\n",
       "      <td>NaN</td>\n",
       "      <td>NaN</td>\n",
       "      <td>NaN</td>\n",
       "    </tr>\n",
       "    <tr>\n",
       "      <th>y*</th>\n",
       "      <td>28.94</td>\n",
       "      <td>26.842</td>\n",
       "      <td>44.2566</td>\n",
       "      <td>53.2428</td>\n",
       "      <td>82.1716</td>\n",
       "      <td>76.0408</td>\n",
       "      <td>70</td>\n",
       "      <td>78.3601</td>\n",
       "      <td>101.026</td>\n",
       "      <td>100.596</td>\n",
       "      <td>114.379</td>\n",
       "      <td>130.472</td>\n",
       "      <td>196.232</td>\n",
       "      <td>181.373</td>\n",
       "      <td>199.354</td>\n",
       "      <td>218.195</td>\n",
       "      <td>247.454</td>\n",
       "      <td>264.784</td>\n",
       "      <td>276.628</td>\n",
       "      <td>289.883</td>\n",
       "      <td>339.575</td>\n",
       "      <td>331.17</td>\n",
       "      <td>351.06</td>\n",
       "      <td>367.836</td>\n",
       "      <td>396.897</td>\n",
       "      <td>403.607</td>\n",
       "      <td>402.761</td>\n",
       "      <td>417.185</td>\n",
       "      <td>439.228</td>\n",
       "      <td>434.598</td>\n",
       "      <td>423.611</td>\n",
       "      <td>419.256</td>\n",
       "      <td>440.809</td>\n",
       "      <td>430.627</td>\n",
       "      <td>440.224</td>\n",
       "      <td>NaN</td>\n",
       "      <td>NaN</td>\n",
       "      <td>NaN</td>\n",
       "      <td>NaN</td>\n",
       "    </tr>\n",
       "    <tr>\n",
       "      <th>f</th>\n",
       "      <td>1.02138</td>\n",
       "      <td>0.959475</td>\n",
       "      <td>0.831561</td>\n",
       "      <td>0.86212</td>\n",
       "      <td>1.00333</td>\n",
       "      <td>0.868852</td>\n",
       "      <td>0.831561</td>\n",
       "      <td>0.849435</td>\n",
       "      <td>1.01873</td>\n",
       "      <td>0.911898</td>\n",
       "      <td>0.874996</td>\n",
       "      <td>0.949109</td>\n",
       "      <td>0.975039</td>\n",
       "      <td>0.919255</td>\n",
       "      <td>0.883399</td>\n",
       "      <td>0.928413</td>\n",
       "      <td>0.983092</td>\n",
       "      <td>0.917952</td>\n",
       "      <td>0.884678</td>\n",
       "      <td>0.940735</td>\n",
       "      <td>0.957196</td>\n",
       "      <td>0.923867</td>\n",
       "      <td>0.891048</td>\n",
       "      <td>0.929523</td>\n",
       "      <td>0.952819</td>\n",
       "      <td>0.91106</td>\n",
       "      <td>0.894175</td>\n",
       "      <td>0.918449</td>\n",
       "      <td>0.942131</td>\n",
       "      <td>0.895915</td>\n",
       "      <td>0.883416</td>\n",
       "      <td>0.914177</td>\n",
       "      <td>0.936535</td>\n",
       "      <td>0.908575</td>\n",
       "      <td>0.895379</td>\n",
       "      <td>NaN</td>\n",
       "      <td>NaN</td>\n",
       "      <td>NaN</td>\n",
       "      <td>NaN</td>\n",
       "    </tr>\n",
       "    <tr>\n",
       "      <th>e_appr</th>\n",
       "      <td>0.0600733</td>\n",
       "      <td>0.357847</td>\n",
       "      <td>0.0340338</td>\n",
       "      <td>0.0526201</td>\n",
       "      <td>0.133402</td>\n",
       "      <td>0.357872</td>\n",
       "      <td>1.55702e-09</td>\n",
       "      <td>0.0461964</td>\n",
       "      <td>0.0220091</td>\n",
       "      <td>0.0961704</td>\n",
       "      <td>0.0864266</td>\n",
       "      <td>0.310767</td>\n",
       "      <td>0.160452</td>\n",
       "      <td>0.062674</td>\n",
       "      <td>0.0387935</td>\n",
       "      <td>0.0135836</td>\n",
       "      <td>0.0739001</td>\n",
       "      <td>0.00296821</td>\n",
       "      <td>0.010327</td>\n",
       "      <td>0.0969375</td>\n",
       "      <td>0.0698634</td>\n",
       "      <td>0.031666</td>\n",
       "      <td>0.00131157</td>\n",
       "      <td>0.00180146</td>\n",
       "      <td>0.000258446</td>\n",
       "      <td>0.0540806</td>\n",
       "      <td>0.00539321</td>\n",
       "      <td>0.0190163</td>\n",
       "      <td>0.0310525</td>\n",
       "      <td>0.0810901</td>\n",
       "      <td>0.0624794</td>\n",
       "      <td>0.00276607</td>\n",
       "      <td>0.0333078</td>\n",
       "      <td>0.0102803</td>\n",
       "      <td>0.000963927</td>\n",
       "      <td>NaN</td>\n",
       "      <td>NaN</td>\n",
       "      <td>NaN</td>\n",
       "      <td>NaN</td>\n",
       "    </tr>\n",
       "    <tr>\n",
       "      <th>pred</th>\n",
       "      <td>NaN</td>\n",
       "      <td>NaN</td>\n",
       "      <td>NaN</td>\n",
       "      <td>NaN</td>\n",
       "      <td>NaN</td>\n",
       "      <td>NaN</td>\n",
       "      <td>NaN</td>\n",
       "      <td>NaN</td>\n",
       "      <td>NaN</td>\n",
       "      <td>NaN</td>\n",
       "      <td>NaN</td>\n",
       "      <td>NaN</td>\n",
       "      <td>NaN</td>\n",
       "      <td>NaN</td>\n",
       "      <td>NaN</td>\n",
       "      <td>NaN</td>\n",
       "      <td>NaN</td>\n",
       "      <td>NaN</td>\n",
       "      <td>NaN</td>\n",
       "      <td>NaN</td>\n",
       "      <td>NaN</td>\n",
       "      <td>NaN</td>\n",
       "      <td>NaN</td>\n",
       "      <td>NaN</td>\n",
       "      <td>NaN</td>\n",
       "      <td>NaN</td>\n",
       "      <td>NaN</td>\n",
       "      <td>NaN</td>\n",
       "      <td>NaN</td>\n",
       "      <td>NaN</td>\n",
       "      <td>NaN</td>\n",
       "      <td>NaN</td>\n",
       "      <td>NaN</td>\n",
       "      <td>NaN</td>\n",
       "      <td>440.224</td>\n",
       "      <td>450.715</td>\n",
       "      <td>472.005</td>\n",
       "      <td>471.214</td>\n",
       "      <td>477.933</td>\n",
       "    </tr>\n",
       "  </tbody>\n",
       "</table>"
      ],
      "text/plain": [
       "<IPython.core.display.HTML object>"
      ]
     },
     "execution_count": 60,
     "metadata": {},
     "output_type": "execute_result"
    }
   ],
   "source": [
    "for index, item in enumerate(p):\n",
    "    holt_winters_model = holt_winters_model.append({'t': 1+index+len(data['t']), 'pred': item}, ignore_index = True) \n",
    "holt_winters_model.loc[len(data['t'])-1, 'pred'] = holt_winters_model.loc[len(data['t'])-1,'y*']\n",
    "holt_winters_model['t'] = holt_winters_model['t'].apply(str)\n",
    "HTML(holt_winters_model.T.to_html(header=False))"
   ]
  },
  {
   "cell_type": "markdown",
   "metadata": {},
   "source": [
    "### Построение графика\n",
    "Здесь $y$ - исходный временной ряд, $y*$ - модель, $pred$ - прогноз"
   ]
  },
  {
   "cell_type": "code",
   "execution_count": 41,
   "metadata": {},
   "outputs": [
    {
     "data": {
      "text/plain": [
       "<matplotlib.axes._subplots.AxesSubplot at 0x1bf3d09c198>"
      ]
     },
     "execution_count": 41,
     "metadata": {},
     "output_type": "execute_result"
    },
    {
     "data": {
      "image/png": "[encoded data removed]",
      "text/plain": [
       "<Figure size 1152x648 with 1 Axes>"
      ]
     },
     "metadata": {
      "needs_background": "light"
     },
     "output_type": "display_data"
    }
   ],
   "source": [
    "holt_winters_model.plot(x = 't', y = ['y','y*', 'pred'], figsize=(16, 9), grid = True, marker='o', xlim = (0,len(holt_winters_model)+1), title = \"Прогноз по модели Хольта-Уинтерса\")"
   ]
  },
  {
   "cell_type": "markdown",
   "metadata": {},
   "source": [
    "## Построение модели Телла-Вейджа\n",
    "Модель Хольта-Уинтерса определяется формулой:\n",
    "### <center>$y_{th} = a_0+a_1+W_t$</center>\n",
    "\n",
    "### Определение параметров сглаживания $\\lambda_1, \\lambda_2, \\lambda_3$\n",
    "Здесь используются оптимизированные значения параметров $\\lambda_1, \\lambda_2, \\lambda_3$, процесс поиска оптимальных значений параметров $\\lambda_1, \\lambda_2, \\lambda_3$ описан [здесь](http://link)."
   ]
  },
  {
   "cell_type": "code",
   "execution_count": 42,
   "metadata": {},
   "outputs": [],
   "source": [
    "l1, l2, l3 =0.60859065, 0.10010188, 0.06798838"
   ]
  },
  {
   "cell_type": "markdown",
   "metadata": {},
   "source": [
    "Нахождение начальных параметров $a_0,a_1$ проивзодится по методу МНК. Нахождение предыдущих сезонных трендовых значений производится согласно формулам, описанным выше"
   ]
  },
  {
   "cell_type": "code",
   "execution_count": 43,
   "metadata": {},
   "outputs": [
    {
     "name": "stdout",
     "output_type": "stream",
     "text": [
      "16.679999999999996 10.48\n",
      "[27.159999999999997, 37.64, 48.12, 58.599999999999994, 69.08, 79.56, 90.03999999999999, 100.52]\n"
     ]
    }
   ],
   "source": [
    "a0,a1 = segment_slope(data)\n",
    "print(a0, a1)\n",
    "y_r = [linear(a0,a1,i) for i in range(1,9)] \n",
    "print(y_r)\n",
    "y = data.iloc[:, 1]\n",
    "w = SF_start_values(y,y_r)"
   ]
  },
  {
   "cell_type": "markdown",
   "metadata": {},
   "source": [
    "### Трендсезонные значения на предыдущий период"
   ]
  },
  {
   "cell_type": "code",
   "execution_count": 44,
   "metadata": {},
   "outputs": [
    {
     "data": {
      "text/html": [
       "<table border=\"1\" class=\"dataframe\">\n",
       "  <thead>\n",
       "    <tr style=\"text-align: right;\">\n",
       "      <th>t</th>\n",
       "      <th>w</th>\n",
       "    </tr>\n",
       "  </thead>\n",
       "  <tbody>\n",
       "    <tr>\n",
       "      <td>-3</td>\n",
       "      <td>1.78</td>\n",
       "    </tr>\n",
       "    <tr>\n",
       "      <td>-2</td>\n",
       "      <td>-9.70</td>\n",
       "    </tr>\n",
       "    <tr>\n",
       "      <td>-1</td>\n",
       "      <td>-12.68</td>\n",
       "    </tr>\n",
       "    <tr>\n",
       "      <td>0</td>\n",
       "      <td>-14.01</td>\n",
       "    </tr>\n",
       "  </tbody>\n",
       "</table>"
      ],
      "text/plain": [
       "<IPython.core.display.HTML object>"
      ]
     },
     "execution_count": 44,
     "metadata": {},
     "output_type": "execute_result"
    }
   ],
   "source": [
    "frame = pd.DataFrame.from_dict({'t': [i+1 for i in range(-len(w),0)], 'w': w})\n",
    "HTML(frame.to_html(index = False))"
   ]
  },
  {
   "cell_type": "markdown",
   "metadata": {},
   "source": [
    "Производится расчёт $y_{th}$. Корректировка значений $a_0,a_1$ производится по формулам:\n",
    "### <center>$a_{0(t)} = \\lambda_1(y_t-W_{t-l}+(1-\\lambda)(a_{0(t-1)}+a_{1(t-1)})$</center>\n",
    "### <center>$W_t = \\lambda_3(y_t-a_{0(t)}+(1-\\lambda_3)W_{t-l})$</center>\n",
    "### <center>$a_{1(t)} = \\lambda_2(a_{0(t)}-a_{0(t-1)+(1-\\lambda_2)a_{1(t-1)}})$</center>\n",
    "$y_t$ расчитывается по формуле:\n",
    "### <center>$y_{th} = a_{0(t)}+a_{1(t)}+W_{t-l}$</center>\n",
    "Расчёт ошибки аппроксимации производится по формуле:\n",
    "### <center>$\\overline{e} = \\frac{|\\overline{y}-\\overline{\\hat{y}}|}{\\overline{y}}$,</center>\n",
    "что равнозначно:\n",
    "### <center>$e_t = \\frac{|y_t-\\hat{y}_t|}{y_t}$</center>"
   ]
  },
  {
   "cell_type": "code",
   "execution_count": 45,
   "metadata": {},
   "outputs": [],
   "source": [
    "yth, e, e_appr = [], [], []\n",
    "for i in range(len(y)):\n",
    "    yi = a0+a1+w[i]\n",
    "    yth.append(yi)\n",
    "    e.append(y[i]-yi)\n",
    "    e_appr.append(abs(e[i])/y[i])\n",
    "    temp = a0\n",
    "    a0 = l1*(y[i]-w[i])+(1-l1)*(a0+a1)\n",
    "    a1 = l2*(a0-temp)+(1-l2)*a1\n",
    "    w.append(l3*(y[i]-a0)+(1-l3)*w[i])    "
   ]
  },
  {
   "cell_type": "markdown",
   "metadata": {},
   "source": [
    "### Заполнение таблицы"
   ]
  },
  {
   "cell_type": "code",
   "execution_count": 61,
   "metadata": {},
   "outputs": [
    {
     "data": {
      "text/html": [
       "<table border=\"1\" class=\"dataframe\">\n",
       "  <tbody>\n",
       "    <tr>\n",
       "      <th>t</th>\n",
       "      <td>1</td>\n",
       "      <td>2</td>\n",
       "      <td>3</td>\n",
       "      <td>4</td>\n",
       "      <td>5</td>\n",
       "      <td>6</td>\n",
       "      <td>7</td>\n",
       "      <td>8</td>\n",
       "      <td>9</td>\n",
       "      <td>10</td>\n",
       "      <td>11</td>\n",
       "      <td>12</td>\n",
       "      <td>13</td>\n",
       "      <td>14</td>\n",
       "      <td>15</td>\n",
       "      <td>16</td>\n",
       "      <td>17</td>\n",
       "      <td>18</td>\n",
       "      <td>19</td>\n",
       "      <td>20</td>\n",
       "      <td>21</td>\n",
       "      <td>22</td>\n",
       "      <td>23</td>\n",
       "      <td>24</td>\n",
       "      <td>25</td>\n",
       "      <td>26</td>\n",
       "      <td>27</td>\n",
       "      <td>28</td>\n",
       "      <td>29</td>\n",
       "      <td>30</td>\n",
       "      <td>31</td>\n",
       "      <td>32</td>\n",
       "      <td>33</td>\n",
       "      <td>34</td>\n",
       "      <td>35</td>\n",
       "    </tr>\n",
       "    <tr>\n",
       "      <th>y</th>\n",
       "      <td>27.3</td>\n",
       "      <td>41.8</td>\n",
       "      <td>42.8</td>\n",
       "      <td>56.2</td>\n",
       "      <td>72.5</td>\n",
       "      <td>56</td>\n",
       "      <td>70</td>\n",
       "      <td>74.9</td>\n",
       "      <td>103.3</td>\n",
       "      <td>111.3</td>\n",
       "      <td>125.2</td>\n",
       "      <td>189.3</td>\n",
       "      <td>169.1</td>\n",
       "      <td>193.5</td>\n",
       "      <td>207.4</td>\n",
       "      <td>221.2</td>\n",
       "      <td>267.2</td>\n",
       "      <td>264</td>\n",
       "      <td>273.8</td>\n",
       "      <td>321</td>\n",
       "      <td>317.4</td>\n",
       "      <td>342</td>\n",
       "      <td>350.6</td>\n",
       "      <td>368.5</td>\n",
       "      <td>397</td>\n",
       "      <td>382.9</td>\n",
       "      <td>400.6</td>\n",
       "      <td>409.4</td>\n",
       "      <td>426</td>\n",
       "      <td>402</td>\n",
       "      <td>398.7</td>\n",
       "      <td>418.1</td>\n",
       "      <td>426.6</td>\n",
       "      <td>435.1</td>\n",
       "      <td>439.8</td>\n",
       "    </tr>\n",
       "    <tr>\n",
       "      <th>y*</th>\n",
       "      <td>28.94</td>\n",
       "      <td>26.842</td>\n",
       "      <td>44.2566</td>\n",
       "      <td>53.2428</td>\n",
       "      <td>82.1716</td>\n",
       "      <td>76.0408</td>\n",
       "      <td>70</td>\n",
       "      <td>78.3601</td>\n",
       "      <td>101.026</td>\n",
       "      <td>100.596</td>\n",
       "      <td>114.379</td>\n",
       "      <td>130.472</td>\n",
       "      <td>196.232</td>\n",
       "      <td>181.373</td>\n",
       "      <td>199.354</td>\n",
       "      <td>218.195</td>\n",
       "      <td>247.454</td>\n",
       "      <td>264.784</td>\n",
       "      <td>276.628</td>\n",
       "      <td>289.883</td>\n",
       "      <td>339.575</td>\n",
       "      <td>331.17</td>\n",
       "      <td>351.06</td>\n",
       "      <td>367.836</td>\n",
       "      <td>396.897</td>\n",
       "      <td>403.607</td>\n",
       "      <td>402.761</td>\n",
       "      <td>417.185</td>\n",
       "      <td>439.228</td>\n",
       "      <td>434.598</td>\n",
       "      <td>423.611</td>\n",
       "      <td>419.256</td>\n",
       "      <td>440.809</td>\n",
       "      <td>430.627</td>\n",
       "      <td>440.224</td>\n",
       "    </tr>\n",
       "    <tr>\n",
       "      <th>w</th>\n",
       "      <td>1.73636</td>\n",
       "      <td>-9.30195</td>\n",
       "      <td>-12.7188</td>\n",
       "      <td>-13.9313</td>\n",
       "      <td>1.47898</td>\n",
       "      <td>-9.83526</td>\n",
       "      <td>-12.7188</td>\n",
       "      <td>-14.0234</td>\n",
       "      <td>1.53948</td>\n",
       "      <td>-9.55042</td>\n",
       "      <td>-12.4308</td>\n",
       "      <td>-12.4579</td>\n",
       "      <td>0.817455</td>\n",
       "      <td>-9.22769</td>\n",
       "      <td>-12.2167</td>\n",
       "      <td>-12.3779</td>\n",
       "      <td>1.34292</td>\n",
       "      <td>-9.24855</td>\n",
       "      <td>-12.2919</td>\n",
       "      <td>-11.5499</td>\n",
       "      <td>0.752828</td>\n",
       "      <td>-8.96035</td>\n",
       "      <td>-12.3042</td>\n",
       "      <td>-11.5322</td>\n",
       "      <td>0.755559</td>\n",
       "      <td>-9.5114</td>\n",
       "      <td>-12.3617</td>\n",
       "      <td>-11.7394</td>\n",
       "      <td>0.403535</td>\n",
       "      <td>-10.3789</td>\n",
       "      <td>-13.0246</td>\n",
       "      <td>-11.7702</td>\n",
       "      <td>0.025413</td>\n",
       "      <td>-10.2599</td>\n",
       "      <td>-13.0359</td>\n",
       "    </tr>\n",
       "    <tr>\n",
       "      <th>e_appr</th>\n",
       "      <td>0.0600733</td>\n",
       "      <td>0.357847</td>\n",
       "      <td>0.0340338</td>\n",
       "      <td>0.0526201</td>\n",
       "      <td>0.133402</td>\n",
       "      <td>0.357872</td>\n",
       "      <td>1.55702e-09</td>\n",
       "      <td>0.0461964</td>\n",
       "      <td>0.0220091</td>\n",
       "      <td>0.0961704</td>\n",
       "      <td>0.0864266</td>\n",
       "      <td>0.310767</td>\n",
       "      <td>0.160452</td>\n",
       "      <td>0.062674</td>\n",
       "      <td>0.0387935</td>\n",
       "      <td>0.0135836</td>\n",
       "      <td>0.0739001</td>\n",
       "      <td>0.00296821</td>\n",
       "      <td>0.010327</td>\n",
       "      <td>0.0969375</td>\n",
       "      <td>0.0698634</td>\n",
       "      <td>0.031666</td>\n",
       "      <td>0.00131157</td>\n",
       "      <td>0.00180146</td>\n",
       "      <td>0.000258446</td>\n",
       "      <td>0.0540806</td>\n",
       "      <td>0.00539321</td>\n",
       "      <td>0.0190163</td>\n",
       "      <td>0.0310525</td>\n",
       "      <td>0.0810901</td>\n",
       "      <td>0.0624794</td>\n",
       "      <td>0.00276607</td>\n",
       "      <td>0.0333078</td>\n",
       "      <td>0.0102803</td>\n",
       "      <td>0.000963927</td>\n",
       "    </tr>\n",
       "  </tbody>\n",
       "</table>"
      ],
      "text/plain": [
       "<IPython.core.display.HTML object>"
      ]
     },
     "execution_count": 61,
     "metadata": {},
     "output_type": "execute_result"
    }
   ],
   "source": [
    "tella_weige_model = data.copy()\n",
    "tella_weige_model['t'] = tella_weige_model['t'].apply(str)\n",
    "tella_weige_model.insert(2, 'y*', yth)\n",
    "tella_weige_model.insert(3, 'w', w[4:])\n",
    "tella_weige_model.insert(4, 'e_appr', e_appr)\n",
    "HTML(tella_weige_model.T.to_html(header = False))"
   ]
  },
  {
   "cell_type": "markdown",
   "metadata": {},
   "source": [
    "### Построение графика\n",
    "В данном случае  𝑦∗  - модель Телла-Вейджа временного ряда, наложенная на  𝑦  - исходный врменной ряд"
   ]
  },
  {
   "cell_type": "code",
   "execution_count": 47,
   "metadata": {},
   "outputs": [
    {
     "data": {
      "text/plain": [
       "<matplotlib.axes._subplots.AxesSubplot at 0x1bf3d8cc6a0>"
      ]
     },
     "execution_count": 47,
     "metadata": {},
     "output_type": "execute_result"
    },
    {
     "data": {
      "image/png": "[encoded data removed]",
      "text/plain": [
       "<Figure size 1152x648 with 1 Axes>"
      ]
     },
     "metadata": {
      "needs_background": "light"
     },
     "output_type": "display_data"
    }
   ],
   "source": [
    "tella_weige_model.plot(x = 't', y = ['y','y*'], figsize=(16, 9), grid = True, marker='o', xlim = (0,len(data)+1), title = \"Модель Телла-Вейджа\")"
   ]
  },
  {
   "cell_type": "markdown",
   "metadata": {},
   "source": [
    "## Адекватность и точность модели\n",
    "### Средняя ошибка аппроксимации"
   ]
  },
  {
   "cell_type": "code",
   "execution_count": 48,
   "metadata": {},
   "outputs": [
    {
     "name": "stdout",
     "output_type": "stream",
     "text": [
      "6.92%\n"
     ]
    }
   ],
   "source": [
    "err = np.mean(e_appr)*100\n",
    "print('{}%'.format(round(err,2)))"
   ]
  },
  {
   "cell_type": "markdown",
   "metadata": {},
   "source": [
    "### Коэффициент детерминации"
   ]
  },
  {
   "cell_type": "code",
   "execution_count": 49,
   "metadata": {},
   "outputs": [
    {
     "name": "stdout",
     "output_type": "stream",
     "text": [
      "98.61%\n"
     ]
    }
   ],
   "source": [
    "value = r_squared(y,yth)\n",
    "print(value)"
   ]
  },
  {
   "cell_type": "markdown",
   "metadata": {},
   "source": [
    "### Критерий Дарбина-Уотсона"
   ]
  },
  {
   "cell_type": "code",
   "execution_count": 50,
   "metadata": {},
   "outputs": [
    {
     "name": "stdout",
     "output_type": "stream",
     "text": [
      "{'value': 1.0820127208850636, 'df': 34}\n"
     ]
    }
   ],
   "source": [
    "value = darbin_watson(e_appr)\n",
    "print(value)"
   ]
  },
  {
   "cell_type": "markdown",
   "metadata": {},
   "source": [
    "### R/S Критерий"
   ]
  },
  {
   "cell_type": "code",
   "execution_count": 51,
   "metadata": {},
   "outputs": [
    {
     "name": "stdout",
     "output_type": "stream",
     "text": [
      "3.82\n"
     ]
    }
   ],
   "source": [
    "value = rs_crit(e_appr)\n",
    "print(value)"
   ]
  },
  {
   "cell_type": "markdown",
   "metadata": {},
   "source": [
    "### t-критерий Стьюдента"
   ]
  },
  {
   "cell_type": "code",
   "execution_count": 52,
   "metadata": {},
   "outputs": [
    {
     "name": "stdout",
     "output_type": "stream",
     "text": [
      "{'value': 4.374175423528227, 'df': 34}\n"
     ]
    }
   ],
   "source": [
    "value = student(e_appr)\n",
    "print(value)"
   ]
  },
  {
   "cell_type": "markdown",
   "metadata": {},
   "source": [
    "### Критерий пиков"
   ]
  },
  {
   "cell_type": "code",
   "execution_count": 53,
   "metadata": {},
   "outputs": [
    {
     "name": "stdout",
     "output_type": "stream",
     "text": [
      "{'p:': 22.0, 'g:': 17.0, 'p > g:': True}\n"
     ]
    }
   ],
   "source": [
    "value = pick_crit(e_appr)\n",
    "print(value)"
   ]
  },
  {
   "cell_type": "markdown",
   "metadata": {},
   "source": [
    "## Прогноз по модели Телла-Вейджа на 4 шага вперед\n",
    "Прогноз по модели Телла-Вейджа осуществляется по формуле:\n",
    "### <center>$y_{th}(n+\\tau) = a_{0(n)}+a_{1(n)}\\tau + W_{t-l+\\tau}$</center>"
   ]
  },
  {
   "cell_type": "code",
   "execution_count": 54,
   "metadata": {},
   "outputs": [
    {
     "name": "stdout",
     "output_type": "stream",
     "text": [
      "[450.7149225344524, 472.0050494121682, 471.21434453579263, 477.9328969901375]\n"
     ]
    }
   ],
   "source": [
    "p = []\n",
    "l = len(yth)\n",
    "for i in range(1,TAU+1):\n",
    "    yi = (a0+a1*i)+w[i+len(yth)-1]\n",
    "    p.append(yi)\n",
    "print(p)"
   ]
  },
  {
   "cell_type": "markdown",
   "metadata": {},
   "source": [
    "### Заполнение таблицы спрогнозированными значениями"
   ]
  },
  {
   "cell_type": "code",
   "execution_count": 62,
   "metadata": {},
   "outputs": [
    {
     "data": {
      "text/html": [
       "<table border=\"1\" class=\"dataframe\">\n",
       "  <tbody>\n",
       "    <tr>\n",
       "      <th>t</th>\n",
       "      <td>1</td>\n",
       "      <td>2</td>\n",
       "      <td>3</td>\n",
       "      <td>4</td>\n",
       "      <td>5</td>\n",
       "      <td>6</td>\n",
       "      <td>7</td>\n",
       "      <td>8</td>\n",
       "      <td>9</td>\n",
       "      <td>10</td>\n",
       "      <td>11</td>\n",
       "      <td>12</td>\n",
       "      <td>13</td>\n",
       "      <td>14</td>\n",
       "      <td>15</td>\n",
       "      <td>16</td>\n",
       "      <td>17</td>\n",
       "      <td>18</td>\n",
       "      <td>19</td>\n",
       "      <td>20</td>\n",
       "      <td>21</td>\n",
       "      <td>22</td>\n",
       "      <td>23</td>\n",
       "      <td>24</td>\n",
       "      <td>25</td>\n",
       "      <td>26</td>\n",
       "      <td>27</td>\n",
       "      <td>28</td>\n",
       "      <td>29</td>\n",
       "      <td>30</td>\n",
       "      <td>31</td>\n",
       "      <td>32</td>\n",
       "      <td>33</td>\n",
       "      <td>34</td>\n",
       "      <td>35</td>\n",
       "      <td>36.0</td>\n",
       "      <td>37.0</td>\n",
       "      <td>38.0</td>\n",
       "      <td>39.0</td>\n",
       "    </tr>\n",
       "    <tr>\n",
       "      <th>y</th>\n",
       "      <td>27.3</td>\n",
       "      <td>41.8</td>\n",
       "      <td>42.8</td>\n",
       "      <td>56.2</td>\n",
       "      <td>72.5</td>\n",
       "      <td>56</td>\n",
       "      <td>70</td>\n",
       "      <td>74.9</td>\n",
       "      <td>103.3</td>\n",
       "      <td>111.3</td>\n",
       "      <td>125.2</td>\n",
       "      <td>189.3</td>\n",
       "      <td>169.1</td>\n",
       "      <td>193.5</td>\n",
       "      <td>207.4</td>\n",
       "      <td>221.2</td>\n",
       "      <td>267.2</td>\n",
       "      <td>264</td>\n",
       "      <td>273.8</td>\n",
       "      <td>321</td>\n",
       "      <td>317.4</td>\n",
       "      <td>342</td>\n",
       "      <td>350.6</td>\n",
       "      <td>368.5</td>\n",
       "      <td>397</td>\n",
       "      <td>382.9</td>\n",
       "      <td>400.6</td>\n",
       "      <td>409.4</td>\n",
       "      <td>426</td>\n",
       "      <td>402</td>\n",
       "      <td>398.7</td>\n",
       "      <td>418.1</td>\n",
       "      <td>426.6</td>\n",
       "      <td>435.1</td>\n",
       "      <td>439.8</td>\n",
       "      <td>NaN</td>\n",
       "      <td>NaN</td>\n",
       "      <td>NaN</td>\n",
       "      <td>NaN</td>\n",
       "    </tr>\n",
       "    <tr>\n",
       "      <th>y*</th>\n",
       "      <td>28.94</td>\n",
       "      <td>26.842</td>\n",
       "      <td>44.2566</td>\n",
       "      <td>53.2428</td>\n",
       "      <td>82.1716</td>\n",
       "      <td>76.0408</td>\n",
       "      <td>70</td>\n",
       "      <td>78.3601</td>\n",
       "      <td>101.026</td>\n",
       "      <td>100.596</td>\n",
       "      <td>114.379</td>\n",
       "      <td>130.472</td>\n",
       "      <td>196.232</td>\n",
       "      <td>181.373</td>\n",
       "      <td>199.354</td>\n",
       "      <td>218.195</td>\n",
       "      <td>247.454</td>\n",
       "      <td>264.784</td>\n",
       "      <td>276.628</td>\n",
       "      <td>289.883</td>\n",
       "      <td>339.575</td>\n",
       "      <td>331.17</td>\n",
       "      <td>351.06</td>\n",
       "      <td>367.836</td>\n",
       "      <td>396.897</td>\n",
       "      <td>403.607</td>\n",
       "      <td>402.761</td>\n",
       "      <td>417.185</td>\n",
       "      <td>439.228</td>\n",
       "      <td>434.598</td>\n",
       "      <td>423.611</td>\n",
       "      <td>419.256</td>\n",
       "      <td>440.809</td>\n",
       "      <td>430.627</td>\n",
       "      <td>440.224</td>\n",
       "      <td>NaN</td>\n",
       "      <td>NaN</td>\n",
       "      <td>NaN</td>\n",
       "      <td>NaN</td>\n",
       "    </tr>\n",
       "    <tr>\n",
       "      <th>w</th>\n",
       "      <td>1.73636</td>\n",
       "      <td>-9.30195</td>\n",
       "      <td>-12.7188</td>\n",
       "      <td>-13.9313</td>\n",
       "      <td>1.47898</td>\n",
       "      <td>-9.83526</td>\n",
       "      <td>-12.7188</td>\n",
       "      <td>-14.0234</td>\n",
       "      <td>1.53948</td>\n",
       "      <td>-9.55042</td>\n",
       "      <td>-12.4308</td>\n",
       "      <td>-12.4579</td>\n",
       "      <td>0.817455</td>\n",
       "      <td>-9.22769</td>\n",
       "      <td>-12.2167</td>\n",
       "      <td>-12.3779</td>\n",
       "      <td>1.34292</td>\n",
       "      <td>-9.24855</td>\n",
       "      <td>-12.2919</td>\n",
       "      <td>-11.5499</td>\n",
       "      <td>0.752828</td>\n",
       "      <td>-8.96035</td>\n",
       "      <td>-12.3042</td>\n",
       "      <td>-11.5322</td>\n",
       "      <td>0.755559</td>\n",
       "      <td>-9.5114</td>\n",
       "      <td>-12.3617</td>\n",
       "      <td>-11.7394</td>\n",
       "      <td>0.403535</td>\n",
       "      <td>-10.3789</td>\n",
       "      <td>-13.0246</td>\n",
       "      <td>-11.7702</td>\n",
       "      <td>0.025413</td>\n",
       "      <td>-10.2599</td>\n",
       "      <td>-13.0359</td>\n",
       "      <td>NaN</td>\n",
       "      <td>NaN</td>\n",
       "      <td>NaN</td>\n",
       "      <td>NaN</td>\n",
       "    </tr>\n",
       "    <tr>\n",
       "      <th>e_appr</th>\n",
       "      <td>0.0600733</td>\n",
       "      <td>0.357847</td>\n",
       "      <td>0.0340338</td>\n",
       "      <td>0.0526201</td>\n",
       "      <td>0.133402</td>\n",
       "      <td>0.357872</td>\n",
       "      <td>1.55702e-09</td>\n",
       "      <td>0.0461964</td>\n",
       "      <td>0.0220091</td>\n",
       "      <td>0.0961704</td>\n",
       "      <td>0.0864266</td>\n",
       "      <td>0.310767</td>\n",
       "      <td>0.160452</td>\n",
       "      <td>0.062674</td>\n",
       "      <td>0.0387935</td>\n",
       "      <td>0.0135836</td>\n",
       "      <td>0.0739001</td>\n",
       "      <td>0.00296821</td>\n",
       "      <td>0.010327</td>\n",
       "      <td>0.0969375</td>\n",
       "      <td>0.0698634</td>\n",
       "      <td>0.031666</td>\n",
       "      <td>0.00131157</td>\n",
       "      <td>0.00180146</td>\n",
       "      <td>0.000258446</td>\n",
       "      <td>0.0540806</td>\n",
       "      <td>0.00539321</td>\n",
       "      <td>0.0190163</td>\n",
       "      <td>0.0310525</td>\n",
       "      <td>0.0810901</td>\n",
       "      <td>0.0624794</td>\n",
       "      <td>0.00276607</td>\n",
       "      <td>0.0333078</td>\n",
       "      <td>0.0102803</td>\n",
       "      <td>0.000963927</td>\n",
       "      <td>NaN</td>\n",
       "      <td>NaN</td>\n",
       "      <td>NaN</td>\n",
       "      <td>NaN</td>\n",
       "    </tr>\n",
       "    <tr>\n",
       "      <th>pred</th>\n",
       "      <td>NaN</td>\n",
       "      <td>NaN</td>\n",
       "      <td>NaN</td>\n",
       "      <td>NaN</td>\n",
       "      <td>NaN</td>\n",
       "      <td>NaN</td>\n",
       "      <td>NaN</td>\n",
       "      <td>NaN</td>\n",
       "      <td>NaN</td>\n",
       "      <td>NaN</td>\n",
       "      <td>NaN</td>\n",
       "      <td>NaN</td>\n",
       "      <td>NaN</td>\n",
       "      <td>NaN</td>\n",
       "      <td>NaN</td>\n",
       "      <td>NaN</td>\n",
       "      <td>NaN</td>\n",
       "      <td>NaN</td>\n",
       "      <td>NaN</td>\n",
       "      <td>NaN</td>\n",
       "      <td>NaN</td>\n",
       "      <td>NaN</td>\n",
       "      <td>NaN</td>\n",
       "      <td>NaN</td>\n",
       "      <td>NaN</td>\n",
       "      <td>NaN</td>\n",
       "      <td>NaN</td>\n",
       "      <td>NaN</td>\n",
       "      <td>NaN</td>\n",
       "      <td>NaN</td>\n",
       "      <td>NaN</td>\n",
       "      <td>NaN</td>\n",
       "      <td>NaN</td>\n",
       "      <td>NaN</td>\n",
       "      <td>440.224</td>\n",
       "      <td>450.715</td>\n",
       "      <td>472.005</td>\n",
       "      <td>471.214</td>\n",
       "      <td>477.933</td>\n",
       "    </tr>\n",
       "  </tbody>\n",
       "</table>"
      ],
      "text/plain": [
       "<IPython.core.display.HTML object>"
      ]
     },
     "execution_count": 62,
     "metadata": {},
     "output_type": "execute_result"
    }
   ],
   "source": [
    "for index, item in enumerate(p):\n",
    "    tella_weige_model = tella_weige_model.append({'t': 1+index+len(data['t']), 'pred': item}, ignore_index = True) \n",
    "tella_weige_model.loc[len(data['t'])-1, 'pred'] = tella_weige_model.loc[len(data['t'])-1,'y*']\n",
    "tella_weige_model['t'] = tella_weige_model['t'].apply(str)\n",
    "HTML(tella_weige_model.T.to_html(header=False))"
   ]
  },
  {
   "cell_type": "markdown",
   "metadata": {},
   "source": [
    "### Построение графика"
   ]
  },
  {
   "cell_type": "code",
   "execution_count": 56,
   "metadata": {},
   "outputs": [
    {
     "data": {
      "text/plain": [
       "<matplotlib.axes._subplots.AxesSubplot at 0x1bf3d0cdbe0>"
      ]
     },
     "execution_count": 56,
     "metadata": {},
     "output_type": "execute_result"
    },
    {
     "data": {
      "image/png": "[encoded data removed]",
      "text/plain": [
       "<Figure size 1152x648 with 1 Axes>"
      ]
     },
     "metadata": {
      "needs_background": "light"
     },
     "output_type": "display_data"
    }
   ],
   "source": [
    "tella_weige_model.plot(x = 't', y = ['y','y*', 'pred'], figsize=(16, 9), grid = True, marker='o', xlim = (0,len(tella_weige_model)+1), title = \"Прогноз по модели Телла-Вейджа\")"
   ]
  },
  {
   "cell_type": "code",
   "execution_count": null,
   "metadata": {},
   "outputs": [],
   "source": []
  }
 ],
 "metadata": {
  "kernelspec": {
   "display_name": "Python 3",
   "language": "python",
   "name": "python3"
  },
  "language_info": {
   "codemirror_mode": {
    "name": "ipython",
    "version": 3
   },
   "file_extension": ".py",
   "mimetype": "text/x-python",
   "name": "python",
   "nbconvert_exporter": "python",
   "pygments_lexer": "ipython3",
   "version": "3.7.3"
  }
 },
 "nbformat": 4,
 "nbformat_minor": 2
}
