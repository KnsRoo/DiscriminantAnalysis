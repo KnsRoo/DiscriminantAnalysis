{
 "cells": [
  {
   "cell_type": "code",
   "execution_count": 1,
   "metadata": {},
   "outputs": [],
   "source": [
    "# Импорт зависимостей\n",
    "import numpy as np\n",
    "import pandas as pd\n",
    "from scipy.optimize import minimize\n",
    "import matplotlib.pyplot as plt"
   ]
  },
  {
   "cell_type": "markdown",
   "metadata": {},
   "source": [
    "## Вспомогательные функции"
   ]
  },
  {
   "cell_type": "code",
   "execution_count": 2,
   "metadata": {},
   "outputs": [],
   "source": [
    "def segment_slope(d, size = 5):\n",
    "    X, Y = d.iloc[:size, 0], d.iloc[:size, 1]\n",
    "    X_mean, Y_mean = np.mean(X), np.mean(Y)\n",
    "    n,d = 0,0\n",
    "    for i in range(len(X)):\n",
    "        n += (X[i] - X_mean)*(Y[i] - Y_mean)\n",
    "        d += (X[i] - X_mean)**2\n",
    "    b = n / d\n",
    "    a = Y_mean - b*X_mean\n",
    "    return a,b\n",
    "\n",
    "linear = lambda a,b,t: a+b*t\n",
    "\n",
    "SF_start_values = lambda y, yr: [0.5*(y[i]-yr[i]+y[i+4]-yr[i+4]) for i in range(4)]\n",
    "HW_start_values = lambda y, yr: [0.5*(y[i]/yr[i]+y[i+4]/yr[i+4]) for i in range(4)]"
   ]
  },
  {
   "cell_type": "markdown",
   "metadata": {},
   "source": [
    "## Определение оптимальных параметров сглаживания\n",
    "Представим модели в виде функций, принимающих в качестве аргументов параметры сглаживание и возвращающих среднее значение ошибки аппроксимации"
   ]
  },
  {
   "cell_type": "code",
   "execution_count": 3,
   "metadata": {},
   "outputs": [],
   "source": [
    "def brown_model(alpha):\n",
    "    data = pd.read_csv('data_series.csv')\n",
    "    beta = 1 - alpha\n",
    "    y = data.iloc[:,1]\n",
    "    a0,a1 = segment_slope(data)\n",
    "    yth = [sum([a0,a1])]\n",
    "    e = [y[0]-yth[0]]\n",
    "    e_appr = []\n",
    "    for i in range(1,len(y)):\n",
    "        a0 = a0 + a1 + (1- beta**2)*e[i-1]\n",
    "        a1 = a1 + (1 - beta)**2*e[i-1]\n",
    "        e.append(y[i]-sum([a0,a1]))\n",
    "    for i in range(0,len(y)):\n",
    "        e_appr.append(abs(e[i])/y[i])\n",
    "    return np.mean(e_appr)\n",
    "\n",
    "def holt_winters_model(params):\n",
    "    l1, l2, l3 = params\n",
    "    data = pd.read_csv('data_series.csv')\n",
    "    a0,a1 = segment_slope(data)\n",
    "    y_r = [linear(a0,a1,i) for i in range(1,9)] \n",
    "    y = data.iloc[:, 1]\n",
    "    f = HW_start_values(y,y_r)\n",
    "    e, e_appr = [], []\n",
    "    for i in range(len(y)):\n",
    "        yi = (a0+a1)*f[i]\n",
    "\n",
    "        e.append(y[i]-yi)\n",
    "        e_appr.append(abs(e[i])/y[i])\n",
    "        temp = a0\n",
    "        a0 = l1*(y[i]/f[i])+(1-l1)*(a0+a1)\n",
    "        f.append(l2*(y[i]/a0)+(1-l2)*f[i])\n",
    "        a1 = l3*(a0 - temp)+(1-l3)*a1\n",
    "    for i in range(0,len(y)):\n",
    "        e_appr.append(abs(e[i])/y[i])\n",
    "    return np.mean(e_appr)\n",
    "    \n",
    "def tella_weige_model(params):\n",
    "    l1, l2, l3 = params\n",
    "    l4, l5, l6 = 1 - l1, 1- l2, 1- l3\n",
    "    data = pd.read_csv('data_series.csv')\n",
    "    a0,a1 = segment_slope(data)\n",
    "    y_r = [linear(a0,a1,i) for i in range(1,9)] \n",
    "    y = data.iloc[:, 1]\n",
    "    w = SF_start_values(y,y_r)\n",
    "    e, e_appr = [], []\n",
    "    for i in range(0,len(y)):\n",
    "        yi = a0+a1+w[i]\n",
    "        e.append(y[i]-yi)\n",
    "        temp = a0\n",
    "        a0 = l1*(y[i]-w[i])+l4*(a0+a1)\n",
    "        a1 = l2*(a0-temp)+l5*a1\n",
    "        w.append(l3*(y[i]-a0)+l6*w[i])\n",
    "    for i in range(0,len(y)):\n",
    "        e_appr.append(abs(e[i])/y[i])\n",
    "    return np.mean(e_appr)"
   ]
  },
  {
   "cell_type": "markdown",
   "metadata": {},
   "source": [
    "### С помощью функции minimize библиотеки Scipy найдем оптимальные параметры для каждой из моделей"
   ]
  },
  {
   "cell_type": "code",
   "execution_count": 4,
   "metadata": {},
   "outputs": [
    {
     "name": "stdout",
     "output_type": "stream",
     "text": [
      "[0.34160103] 0.04932228888045559\n"
     ]
    }
   ],
   "source": [
    "m = minimize(brown_model,[0.5])\n",
    "print(m.x, m.fun)"
   ]
  },
  {
   "cell_type": "code",
   "execution_count": 5,
   "metadata": {},
   "outputs": [
    {
     "name": "stdout",
     "output_type": "stream",
     "text": [
      "[0.60694301 1.01188937 0.38280774] 0.039128654773475546\n"
     ]
    }
   ],
   "source": [
    "m = minimize(holt_winters_model, [0.5,0.5,0.5])\n",
    "print(m.x, m.fun)"
   ]
  },
  {
   "cell_type": "code",
   "execution_count": 6,
   "metadata": {},
   "outputs": [
    {
     "name": "stdout",
     "output_type": "stream",
     "text": [
      "[0.73330596 0.37075792 1.4052209 ] 0.03960027672328239\n"
     ]
    }
   ],
   "source": [
    "m = minimize(tella_weige_model,[0.5,0.5,0.5])\n",
    "print(m.x, m.fun)"
   ]
  },
  {
   "cell_type": "code",
   "execution_count": null,
   "metadata": {},
   "outputs": [],
   "source": []
  }
 ],
 "metadata": {
  "kernelspec": {
   "display_name": "Python 3",
   "language": "python",
   "name": "python3"
  },
  "language_info": {
   "codemirror_mode": {
    "name": "ipython",
    "version": 3
   },
   "file_extension": ".py",
   "mimetype": "text/x-python",
   "name": "python",
   "nbconvert_exporter": "python",
   "pygments_lexer": "ipython3",
   "version": "3.7.3"
  }
 },
 "nbformat": 4,
 "nbformat_minor": 2
}
