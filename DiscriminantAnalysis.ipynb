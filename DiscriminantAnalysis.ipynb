{
 "cells": [
  {
   "cell_type": "markdown",
   "metadata": {},
   "source": [
    "# Процедура дискриминантного анализа"
   ]
  },
  {
   "cell_type": "code",
   "execution_count": 3,
   "metadata": {},
   "outputs": [],
   "source": [
    "# Здесь подгрузим необходимые библиотеки для проведения процедуры дискриминационного анализа\n",
    "\n",
    "import numpy as np\n",
    "import pandas as pd\n",
    "from IPython.display import HTML"
   ]
  },
  {
   "cell_type": "markdown",
   "metadata": {},
   "source": [
    "## Исходные данные"
   ]
  },
  {
   "cell_type": "code",
   "execution_count": 4,
   "metadata": {},
   "outputs": [],
   "source": [
    "'''\n",
    "Здесь будем подгружать их. Для начала подгрузим группу обучющую группу М1 из примера. Столбцы - предприятия, строки - факторы\n",
    "В реальной работе, сюда нужно будет загрузить таблицу уровня жизни центрального федерального округа.\n",
    "Столбцы - регионы, строки - факторы.\n",
    "'''\n",
    "M1 = pd.read_csv('M1.csv')"
   ]
  },
  {
   "cell_type": "code",
   "execution_count": 5,
   "metadata": {},
   "outputs": [
    {
     "data": {
      "text/html": [
       "<table border=\"1\" class=\"dataframe\">\n",
       "  <thead>\n",
       "    <tr style=\"text-align: right;\">\n",
       "      <th>№ предприятия в группе</th>\n",
       "      <th>X1</th>\n",
       "      <th>X2</th>\n",
       "      <th>X3</th>\n",
       "    </tr>\n",
       "  </thead>\n",
       "  <tbody>\n",
       "    <tr>\n",
       "      <td>1</td>\n",
       "      <td>224.228</td>\n",
       "      <td>17.115</td>\n",
       "      <td>22.981</td>\n",
       "    </tr>\n",
       "    <tr>\n",
       "      <td>2</td>\n",
       "      <td>151.827</td>\n",
       "      <td>14.904</td>\n",
       "      <td>21.481</td>\n",
       "    </tr>\n",
       "    <tr>\n",
       "      <td>3</td>\n",
       "      <td>147.313</td>\n",
       "      <td>13.627</td>\n",
       "      <td>28.669</td>\n",
       "    </tr>\n",
       "    <tr>\n",
       "      <td>4</td>\n",
       "      <td>152.253</td>\n",
       "      <td>10.545</td>\n",
       "      <td>10.199</td>\n",
       "    </tr>\n",
       "  </tbody>\n",
       "</table>"
      ],
      "text/plain": [
       "<IPython.core.display.HTML object>"
      ]
     },
     "execution_count": 5,
     "metadata": {},
     "output_type": "execute_result"
    }
   ],
   "source": [
    "HTML(M1.to_html(index=False))"
   ]
  },
  {
   "cell_type": "code",
   "execution_count": 6,
   "metadata": {},
   "outputs": [
    {
     "data": {
      "text/html": [
       "<table border=\"1\" class=\"dataframe\">\n",
       "  <thead>\n",
       "    <tr style=\"text-align: right;\">\n",
       "      <th>№ предприятия в группе</th>\n",
       "      <th>X1</th>\n",
       "      <th>X2</th>\n",
       "      <th>X3</th>\n",
       "    </tr>\n",
       "  </thead>\n",
       "  <tbody>\n",
       "    <tr>\n",
       "      <td>1</td>\n",
       "      <td>46.757</td>\n",
       "      <td>4.428</td>\n",
       "      <td>11.124</td>\n",
       "    </tr>\n",
       "    <tr>\n",
       "      <td>2</td>\n",
       "      <td>29.033</td>\n",
       "      <td>5.510</td>\n",
       "      <td>6.091</td>\n",
       "    </tr>\n",
       "    <tr>\n",
       "      <td>3</td>\n",
       "      <td>52.134</td>\n",
       "      <td>4.214</td>\n",
       "      <td>11.842</td>\n",
       "    </tr>\n",
       "    <tr>\n",
       "      <td>4</td>\n",
       "      <td>37.050</td>\n",
       "      <td>5.527</td>\n",
       "      <td>11.873</td>\n",
       "    </tr>\n",
       "    <tr>\n",
       "      <td>5</td>\n",
       "      <td>63.979</td>\n",
       "      <td>4.211</td>\n",
       "      <td>12.860</td>\n",
       "    </tr>\n",
       "  </tbody>\n",
       "</table>"
      ],
      "text/plain": [
       "<IPython.core.display.HTML object>"
      ]
     },
     "execution_count": 6,
     "metadata": {},
     "output_type": "execute_result"
    }
   ],
   "source": [
    "'''\n",
    "То же самое сделаем с группой М2 из примера. \n",
    "В реальной работе, здесь будет таблица уровня жизни приволжского федерального оеруга\n",
    "'''\n",
    "M2 = pd.read_csv('M2.csv')\n",
    "HTML(M2.to_html(index=False))"
   ]
  },
  {
   "cell_type": "code",
   "execution_count": 7,
   "metadata": {},
   "outputs": [
    {
     "data": {
      "text/html": [
       "<table border=\"1\" class=\"dataframe\">\n",
       "  <thead>\n",
       "    <tr style=\"text-align: right;\">\n",
       "      <th>№ предприятия в группе</th>\n",
       "      <th>X1</th>\n",
       "      <th>X2</th>\n",
       "      <th>X3</th>\n",
       "    </tr>\n",
       "  </thead>\n",
       "  <tbody>\n",
       "    <tr>\n",
       "      <td>1</td>\n",
       "      <td>55.451</td>\n",
       "      <td>9.592</td>\n",
       "      <td>12.840</td>\n",
       "    </tr>\n",
       "    <tr>\n",
       "      <td>2</td>\n",
       "      <td>78.575</td>\n",
       "      <td>11.727</td>\n",
       "      <td>15.535</td>\n",
       "    </tr>\n",
       "    <tr>\n",
       "      <td>3</td>\n",
       "      <td>98.353</td>\n",
       "      <td>17.572</td>\n",
       "      <td>20.458</td>\n",
       "    </tr>\n",
       "  </tbody>\n",
       "</table>"
      ],
      "text/plain": [
       "<IPython.core.display.HTML object>"
      ]
     },
     "execution_count": 7,
     "metadata": {},
     "output_type": "execute_result"
    }
   ],
   "source": [
    "'''\n",
    "Сюда загружаем то, что нам требуется классифицировать М0- из примера. В реальной работе,\n",
    "здесь будет таблиц уровня жизни северозападного федерального округа\n",
    "'''\n",
    "M0 = pd.read_csv('M0.csv')\n",
    "HTML(M0.to_html(index=False))"
   ]
  },
  {
   "cell_type": "markdown",
   "metadata": {},
   "source": [
    "## Получение обучающих подмножеств"
   ]
  },
  {
   "cell_type": "markdown",
   "metadata": {},
   "source": [
    "### Получим вектора средних значений признаков по обучающим группам М1 и М2 "
   ]
  },
  {
   "cell_type": "code",
   "execution_count": 8,
   "metadata": {},
   "outputs": [
    {
     "name": "stdout",
     "output_type": "stream",
     "text": [
      "[[168.90525]\n",
      " [ 14.04775]\n",
      " [ 20.8325 ]]\n",
      "[[45.7906]\n",
      " [ 4.778 ]\n",
      " [10.758 ]]\n"
     ]
    }
   ],
   "source": [
    "def calcMean(X):\n",
    "    mean = np.mean(X, axis = 0)\n",
    "    return np.reshape(np.array(mean), (-1,1))\n",
    "\n",
    "M1,M2 = M1.iloc[:,1:].to_numpy(), M2.iloc[:,1:].to_numpy()\n",
    "    \n",
    "X1,X2 = calcMean(M1),calcMean(M2)\n",
    "print(X1)\n",
    "print(X2)"
   ]
  },
  {
   "cell_type": "markdown",
   "metadata": {},
   "source": [
    "### Получим ковариационные матрицы для М1 и М2"
   ]
  },
  {
   "cell_type": "code",
   "execution_count": 9,
   "metadata": {},
   "outputs": [
    {
     "name": "stdout",
     "output_type": "stream",
     "text": [
      "[[1023.94899519   55.61976531   28.91242912]\n",
      " [  55.61976531    5.64686869   10.27363737]\n",
      " [  28.91242912   10.27363737   44.87966475]]\n",
      "[[145.84115864  -6.6084026   22.784783  ]\n",
      " [ -6.6084026    0.371782    -0.9024838 ]\n",
      " [ 22.784783    -0.9024838    5.750306  ]]\n"
     ]
    }
   ],
   "source": [
    "def getCovMatr(M, vec):\n",
    "    s = np.zeros((3,3))\n",
    "    for row in M:\n",
    "        s += (np.reshape(row,(-1,1)) - vec).dot((np.reshape(row,(-1,1)) - vec).T)\n",
    "    return s/len(M)  \n",
    "\n",
    "S1,S2 = getCovMatr(M1,X1),getCovMatr(M2,X2)\n",
    "print(S1)\n",
    "print(S2)"
   ]
  },
  {
   "cell_type": "markdown",
   "metadata": {},
   "source": [
    "### Получим обьединенную ковариационную матрицу"
   ]
  },
  {
   "cell_type": "code",
   "execution_count": 11,
   "metadata": {},
   "outputs": [
    {
     "name": "stdout",
     "output_type": "stream",
     "text": [
      "[[689.28596771  27.06243546  32.79623307]\n",
      " [ 27.06243546   3.49234068   5.22601864]\n",
      " [ 32.79623307   5.22601864  29.75288414]]\n"
     ]
    }
   ],
   "source": [
    "def getOCV(matrs,args):\n",
    "    constant = 1/(np.sum(args) - len(matrs))\n",
    "    summ, index = 0, 0\n",
    "    for row in matrs:\n",
    "        summ +=args[index]*row\n",
    "        index+=1\n",
    "    return constant*summ\n",
    "        \n",
    "ocv = getOCV([S1,S2],[4,5])\n",
    "print(ocv)"
   ]
  },
  {
   "cell_type": "markdown",
   "metadata": {},
   "source": [
    "### Получим обратную обьединенную ковариационную матрицу"
   ]
  },
  {
   "cell_type": "code",
   "execution_count": 12,
   "metadata": {},
   "outputs": [
    {
     "name": "stdout",
     "output_type": "stream",
     "text": [
      "[[ 0.00209699 -0.01735154  0.00073626]\n",
      " [-0.01735154  0.53201446 -0.07432061]\n",
      " [ 0.00073626 -0.07432061  0.04585284]]\n"
     ]
    }
   ],
   "source": [
    "ocvInv = np.linalg.inv(ocv)\n",
    "print(ocvInv)"
   ]
  },
  {
   "cell_type": "markdown",
   "metadata": {},
   "source": [
    "### Вектор дискриминантных множителей"
   ]
  },
  {
   "cell_type": "code",
   "execution_count": 13,
   "metadata": {},
   "outputs": [
    {
     "name": "stdout",
     "output_type": "stream",
     "text": [
      "[[ 0.1047437 ]\n",
      " [ 2.04666965]\n",
      " [-0.13634417]]\n"
     ]
    }
   ],
   "source": [
    "A = np.dot(ocvInv,np.subtract(X1,X2))\n",
    "print(A)"
   ]
  },
  {
   "cell_type": "markdown",
   "metadata": {},
   "source": [
    "### Значения дискриминантной функции:"
   ]
  },
  {
   "cell_type": "code",
   "execution_count": 14,
   "metadata": {},
   "outputs": [
    {
     "name": "stdout",
     "output_type": "stream",
     "text": [
      "[[55.38189512]\n",
      " [43.47767643]\n",
      " [39.41122432]\n",
      " [36.13909921]]\n",
      "[[12.44346162]\n",
      " [13.48770114]\n",
      " [12.47078605]\n",
      " [13.57388272]\n",
      " [13.56653676]]\n"
     ]
    }
   ],
   "source": [
    "def getFuncValues(A,M):\n",
    "    vec = []\n",
    "    for row in M:\n",
    "        vec.append(np.dot(row,A))\n",
    "    return np.array(vec)\n",
    "\n",
    "F1 = getFuncValues(A,M1)\n",
    "F2 = getFuncValues(A,M2)\n",
    "print(F1)\n",
    "print(F2)"
   ]
  },
  {
   "cell_type": "markdown",
   "metadata": {},
   "source": [
    "### Средние значения F для каждой из групп:"
   ]
  },
  {
   "cell_type": "code",
   "execution_count": 15,
   "metadata": {},
   "outputs": [
    {
     "name": "stdout",
     "output_type": "stream",
     "text": [
      "[43.60247377 13.10847366]\n"
     ]
    }
   ],
   "source": [
    "Fm = np.array([np.mean(F1), np.mean(F2)])\n",
    "print(Fm)"
   ]
  },
  {
   "cell_type": "markdown",
   "metadata": {},
   "source": [
    "### Константа (общее среднее) дискриминации:"
   ]
  },
  {
   "cell_type": "code",
   "execution_count": 16,
   "metadata": {},
   "outputs": [
    {
     "name": "stdout",
     "output_type": "stream",
     "text": [
      "28.355473714207854\n"
     ]
    }
   ],
   "source": [
    "Fms = np.mean(Fm) \n",
    "print(Fms)"
   ]
  },
  {
   "cell_type": "markdown",
   "metadata": {},
   "source": [
    "## Распределение (дискриминация) объектов из M0 по обучающим выборкам M1, M2:"
   ]
  },
  {
   "cell_type": "code",
   "execution_count": 17,
   "metadata": {},
   "outputs": [
    {
     "name": "stdout",
     "output_type": "stream",
     "text": [
      "[[23.68913879]\n",
      " [30.11342418]\n",
      " [43.47660675]]\n"
     ]
    }
   ],
   "source": [
    "M0 = M0.iloc[:,1:].to_numpy()\n",
    "F0 = getFuncValues(A,M0)\n",
    "print(F0)"
   ]
  },
  {
   "cell_type": "code",
   "execution_count": 18,
   "metadata": {},
   "outputs": [],
   "source": [
    "def classificate(needle, Fm):\n",
    "    res, index, Fms = {}, 0, np.mean(Fm)\n",
    "    for Fi in needle:\n",
    "        index+=1\n",
    "        if Fm[0] > Fm[1]:\n",
    "            res[index] = [Fi[0],'M1'] if (Fi[0] > Fms) else [Fi[0],'M2'] \n",
    "        else:\n",
    "            res[index] = [Fi[0],'M2'] if (Fi[0] > Fms) else [Fi[0],'M1']\n",
    "    return res"
   ]
  },
  {
   "cell_type": "code",
   "execution_count": 19,
   "metadata": {},
   "outputs": [
    {
     "data": {
      "text/html": [
       "<table border=\"1\" class=\"dataframe\">\n",
       "  <thead>\n",
       "    <tr style=\"text-align: right;\">\n",
       "      <th></th>\n",
       "      <th>F</th>\n",
       "      <th>Группа</th>\n",
       "    </tr>\n",
       "  </thead>\n",
       "  <tbody>\n",
       "    <tr>\n",
       "      <th>1</th>\n",
       "      <td>23.689139</td>\n",
       "      <td>M2</td>\n",
       "    </tr>\n",
       "    <tr>\n",
       "      <th>2</th>\n",
       "      <td>30.113424</td>\n",
       "      <td>M1</td>\n",
       "    </tr>\n",
       "    <tr>\n",
       "      <th>3</th>\n",
       "      <td>43.476607</td>\n",
       "      <td>M1</td>\n",
       "    </tr>\n",
       "  </tbody>\n",
       "</table>"
      ],
      "text/plain": [
       "<IPython.core.display.HTML object>"
      ]
     },
     "execution_count": 19,
     "metadata": {},
     "output_type": "execute_result"
    }
   ],
   "source": [
    "result = classificate(F0, Fm)\n",
    "result = pd.DataFrame.from_dict(result, orient = \"index\", columns = ['F','Группа'])\n",
    "HTML(result.to_html())"
   ]
  },
  {
   "cell_type": "code",
   "execution_count": null,
   "metadata": {},
   "outputs": [],
   "source": []
  }
 ],
 "metadata": {
  "kernelspec": {
   "display_name": "Python 3",
   "language": "python",
   "name": "python3"
  }
 },
 "nbformat": 4,
 "nbformat_minor": 2
}
